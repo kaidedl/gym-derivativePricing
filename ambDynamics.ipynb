{
 "cells": [
  {
   "cell_type": "code",
   "execution_count": null,
   "metadata": {
    "collapsed": true
   },
   "outputs": [],
   "source": [
    "dynamic monte carlo\n",
    "\n",
    "finance: focus on optimal stopping, am or ac\n",
    "ls+tsi: mc for optimal stopping\n",
    "several: pde for am\n",
    "seq dec: stoch control>pde low dim\n",
    "    \n",
    "rl: focus on seq dec\n",
    "dyn prg = pde too slow\n",
    "sample appr\n",
    "value method = mc = ls\n",
    "pg also exists in finance, see eg jaeckel\n",
    "\n",
    "finance requires high reliability+prec+speed (for intraday risk calcs) in a constantly changing model (because mkt data change)\n",
    "\n",
    "new appr: dyn mc\n",
    "compare to heuristic (geodesic) and dqn (stable baseline)\n"
   ]
  },
  {
   "cell_type": "code",
   "execution_count": null,
   "metadata": {
    "collapsed": true
   },
   "outputs": [],
   "source": []
  },
  {
   "cell_type": "code",
   "execution_count": null,
   "metadata": {
    "collapsed": true
   },
   "outputs": [],
   "source": []
  },
  {
   "cell_type": "code",
   "execution_count": null,
   "metadata": {
    "collapsed": true
   },
   "outputs": [],
   "source": []
  },
  {
   "cell_type": "code",
   "execution_count": null,
   "metadata": {
    "collapsed": true
   },
   "outputs": [],
   "source": []
  },
  {
   "cell_type": "code",
   "execution_count": null,
   "metadata": {
    "collapsed": true
   },
   "outputs": [],
   "source": []
  },
  {
   "cell_type": "code",
   "execution_count": null,
   "metadata": {
    "collapsed": true
   },
   "outputs": [],
   "source": []
  },
  {
   "cell_type": "code",
   "execution_count": null,
   "metadata": {
    "collapsed": true
   },
   "outputs": [],
   "source": []
  },
  {
   "cell_type": "code",
   "execution_count": null,
   "metadata": {
    "collapsed": true
   },
   "outputs": [],
   "source": []
  },
  {
   "cell_type": "code",
   "execution_count": null,
   "metadata": {
    "collapsed": true
   },
   "outputs": [],
   "source": []
  },
  {
   "cell_type": "code",
   "execution_count": null,
   "metadata": {
    "collapsed": true
   },
   "outputs": [],
   "source": []
  },
  {
   "cell_type": "code",
   "execution_count": null,
   "metadata": {
    "collapsed": true
   },
   "outputs": [],
   "source": []
  },
  {
   "cell_type": "code",
   "execution_count": null,
   "metadata": {
    "collapsed": true
   },
   "outputs": [],
   "source": [
    "import numpy as np\n",
    "from numpy.linalg import eig\n",
    "import pandas as pd\n",
    "import py_lets_be_quickly_rational\n",
    "import time\n",
    "from scipy import interpolate\n",
    "from scipy.stats import norm\n",
    "from scipy.optimize import brentq\n",
    "from matplotlib import pyplot as plt"
   ]
  },
  {
   "cell_type": "markdown",
   "metadata": {},
   "source": [
    "0) intro\n",
    "1) review > only optimal stopping\n",
    "2) model > stoch correl; no resim because chance player always the same; but exploration question remains; check with deepmind paper\n",
    "2) geodesic+grad descent\n",
    "3) dqn\n",
    "4) mcts"
   ]
  },
  {
   "cell_type": "code",
   "execution_count": null,
   "metadata": {
    "collapsed": true
   },
   "outputs": [],
   "source": [
    "def BS(F,K,T,vol):\n",
    "    d1=(np.log(F/K)+0.5*vol**2*T)/(vol*T**0.5)\n",
    "    d2=d1-vol*T**0.5\n",
    "    return F*norm.cdf(d1) - K*norm.cdf(d2)\n",
    "\n",
    "def IV(price,F,K,T):\n",
    "    return brentq(lambda v: BS(F,K,T,v)-price, 0.01, 0.5)"
   ]
  },
  {
   "cell_type": "code",
   "execution_count": 36,
   "metadata": {},
   "outputs": [
    {
     "name": "stdout",
     "output_type": "stream",
     "text": [
      "0.38\n",
      "0.21499999999999997\n",
      "0.27\n"
     ]
    }
   ],
   "source": [
    "# s0, v0, kappa, theta, alpha=vov, rho\n",
    "modelParam = np.array([\n",
    "    [50.0, 0.25**2, 3.0, 0.3**2, 0.4, -0.6],\n",
    "    [50.0, 0.35**2, 3.0, 0.25**2, 0.4, -0.5],\n",
    "    [50.0, 0.3**2, 2.0, 0.3**2, 0.3, -0.7],\n",
    "])\n",
    "\n",
    "n = len(modelParam)\n",
    "\n",
    "# constraint 2 theta vbar > alpha**2\n",
    "for i in range(n):\n",
    "    _, _, theta, vbar, alpha, _ = modelParam[i]\n",
    "    print(2*theta*vbar-alpha**2)"
   ]
  },
  {
   "cell_type": "code",
   "execution_count": 37,
   "metadata": {},
   "outputs": [
    {
     "name": "stdout",
     "output_type": "stream",
     "text": [
      "[[1.         0.7        0.3       ]\n",
      " [0.         0.71414284 0.40608122]\n",
      " [0.         0.         0.86319062]]\n",
      "[[1.  0.7 0.3]\n",
      " [0.7 1.  0.5]\n",
      " [0.3 0.5 1. ]]\n",
      "[[ 0.00000000e+00  0.00000000e+00  0.00000000e+00]\n",
      " [ 0.00000000e+00  1.11022302e-16  0.00000000e+00]\n",
      " [ 0.00000000e+00  0.00000000e+00 -2.22044605e-16]]\n",
      "[[1.         0.68792126 0.29193292]\n",
      " [0.68792126 1.         0.52357139]\n",
      " [0.29193292 0.52357139 1.        ]]\n"
     ]
    }
   ],
   "source": [
    "C = np.array([\n",
    "    [1.0, 0.7, 0.3],\n",
    "    [0.7, 1.0, 0.5],\n",
    "    [0.3, 0.5, 1.0]\n",
    "])\n",
    "\n",
    "L = np.linalg.cholesky(C)\n",
    "print(L.T)\n",
    "print(np.matmul(L, L.T))\n",
    "print(C-np.matmul(L, L.T))\n",
    "    \n",
    "for i in range(3):\n",
    "    b=np.random.multivariate_normal(np.zeros(3),0.02**2*np.eye(3))\n",
    "    a = L[i,:] + b\n",
    "    L[i,:] = a / np.linalg.norm(a)\n",
    "print(np.matmul(L, L.T))"
   ]
  },
  {
   "cell_type": "code",
   "execution_count": null,
   "metadata": {
    "collapsed": true
   },
   "outputs": [],
   "source": []
  },
  {
   "cell_type": "code",
   "execution_count": 38,
   "metadata": {
    "collapsed": true
   },
   "outputs": [],
   "source": [
    "def xi(a,b,c,d,k):\n",
    "    r1 = np.cos(k*np.pi*(d-a)/(b-a))*np.exp(d) - np.cos(k*np.pi*(c-a)/(b-a))*np.exp(c)\n",
    "    r2 = k*np.pi/(b-a)*np.sin(k*np.pi*(d-a)/(b-a))*np.exp(d) - k*np.pi/(b-a)*np.sin(k*np.pi*(c-a)/(b-a))*np.exp(c)\n",
    "    return (r1+r2) / (1+(k*np.pi/(b-a))**2)\n",
    "\n",
    "def vpsi(a,b,c,d,ks):\n",
    "    ks = np.maximum(ks,1)\n",
    "    r = (np.sin(ks*np.pi*(d-a)/(b-a)) - np.sin(ks*np.pi*(c-a)/(b-a)))*(b-a)/(ks*np.pi)\n",
    "    r[0] = d-c\n",
    "    return r\n",
    "\n",
    "def vv_put_orig(a, b, ks):\n",
    "    r = 2 / (b-a) * (-xi(a,b,a,0,ks)+vpsi(a,b,a,0,ks))\n",
    "    r[0] = r[0] / 2.0\n",
    "    return r\n",
    "\n",
    "def phi_heston2_pre(omega, kappa,theta, alpha, rho,T):\n",
    "    z=omega\n",
    "    tau=T\n",
    "    v=V0\n",
    "    vbar=theta\n",
    "    lamb=kappa\n",
    "    eta=alpha\n",
    "    a0=lamb-rho*eta*z*1j\n",
    "    gamma=np.power(eta**2*(z**2+z*1j)+a0*a0, 0.5)\n",
    "    G=(a0-gamma)/(a0+gamma)\n",
    "    a1=1.0/eta/eta*((1-np.exp(-gamma*tau))/(1-G*np.exp(-gamma*tau)))*(a0-gamma)\n",
    "    a2=lamb*vbar/eta/eta*(tau*(a0-gamma)-2*np.log((1-G*np.exp(-gamma*tau))/(1-G))) #c*vbar\n",
    "    return a1, a2\n",
    "\n",
    "def phi_heston2(omega, kappa,theta, alpha, rho,V0,T):\n",
    "    a1, a2 = phi_heston2_pre(omega, kappa,theta, alpha, rho,T)\n",
    "    return np.exp(V0*a1+a2)\n",
    "\n",
    "def phi_heston2_post(a,V0):\n",
    "    a1, a2 = a\n",
    "    return np.exp(V0*a1+a2)\n",
    "\n",
    "def cumulants(kappa, theta, V0, t):\n",
    "    c1 = (1-np.exp(-kappa*t))*(theta-V0)/(2*kappa)-theta*t/2\n",
    "    c21 = V0 / (4*kappa**3) * (4*kappa**2*(1+(rho*alpha*t-1)*np.exp(-kappa*t))\n",
    "                             +kappa*(4*rho*alpha*(np.exp(-kappa*t)-1)-2*alpha**2*t*np.exp(-kappa*t))\n",
    "                             +alpha**2*(1-np.exp(-2*kappa*t)))\n",
    "    c22 = theta / (8*kappa**3) * (8*kappa**3*t - 8*kappa**2*(1+rho*alpha*t+(rho*alpha*t-1)*np.exp(-kappa*t))+\\\n",
    "                                  2*kappa*((1+2*np.exp(-kappa*t))*alpha**2*t+ 8*(1-np.exp(-kappa*t))*rho*alpha)+\\\n",
    "                                  alpha**2*(np.exp(-2*kappa*t)+4*np.exp(-kappa*t)-5))\n",
    "    return c1, c21+c22"
   ]
  },
  {
   "cell_type": "code",
   "execution_count": 39,
   "metadata": {
    "collapsed": true
   },
   "outputs": [],
   "source": [
    "T=0.25\n",
    "S0, V0, kappa, theta, alpha, rho = modelParam[2,:]\n",
    "c1, c2 = cumulants(kappa, theta, V0, T)\n",
    "c1, c2 = cumulants(kappa, theta, theta, T)\n",
    "L=12\n",
    "a=c1 - L*c2**0.5\n",
    "b=c1 + L*c2**0.5\n",
    "F=S0\n",
    "N=50"
   ]
  },
  {
   "cell_type": "code",
   "execution_count": 40,
   "metadata": {},
   "outputs": [
    {
     "name": "stdout",
     "output_type": "stream",
     "text": [
      "time: 0.002536993999456172\n",
      "45.0 1.099057118354767 0.31185199797275476\n",
      "46.0 1.3718263057523672 0.3086445823669359\n",
      "47.0 1.6908850143843153 0.30547917513218253\n",
      "48.0 2.059207635490383 0.30235601306908555\n",
      "49.0 2.4790537789959375 0.2992756051490697\n",
      "50.0 2.9518551739744465 0.2962387265102957\n",
      "51.0 3.4781400496610946 0.29324643083388935\n",
      "52.00000000000001 4.057501441078789 0.2903000729847739\n",
      "53.00000000000001 4.68861245763323 0.28740132925934064\n",
      "54.00000000000001 5.369287845599497 0.28455220444366547\n",
      "55.00000000000001 6.09658752228287 0.28175502034055\n",
      "calls\n",
      "45.0 6.099057118354764\n",
      "46.0 5.371826305752364\n",
      "47.0 4.690885014384314\n",
      "48.0 4.059207635490381\n",
      "49.0 3.47905377899594\n",
      "50.0 2.951855173974444\n",
      "51.0 2.478140049661093\n",
      "52.00000000000001 2.0575014410787844\n",
      "53.00000000000001 1.6886124576332193\n",
      "54.00000000000001 1.3692878455994872\n",
      "55.00000000000001 1.09658752228286\n"
     ]
    }
   ],
   "source": [
    "Ks=np.linspace(0.9*F,1.1*F,11)\n",
    "t1=time.perf_counter()\n",
    "xs=np.log(F/Ks)\n",
    "ks = np.array(range(N))\n",
    "xxs = ks*np.pi/(b-a)\n",
    "\n",
    "h = phi_heston2(xxs, kappa,theta,alpha,rho,V0,T) * vv_put_orig(a,b,ks)\n",
    "res = np.zeros(len(Ks))\n",
    "iv = np.zeros(len(Ks))\n",
    "q=-1 #put\n",
    "numIt=1\n",
    "for i in range(len(xs)):\n",
    "    res[i] = Ks[i] * np.sum(h * np.exp(1j * (xs[i] - a) * xxs)).real\n",
    "    iv[i] = py_lets_be_quickly_rational.implied_volatility_from_a_transformed_rational_guess_with_limited_iterations(res[i], S0, Ks[i], T, q, numIt)\n",
    "t2=time.perf_counter()\n",
    "print(\"time:\", t2-t1)\n",
    "\n",
    "for i in range(len(Ks)):\n",
    "    print(Ks[i], res[i], iv[i])\n",
    "print(\"calls\")\n",
    "for i in range(len(Ks)):\n",
    "    print(Ks[i], res[i] + F - Ks[i])"
   ]
  },
  {
   "cell_type": "code",
   "execution_count": 41,
   "metadata": {},
   "outputs": [
    {
     "name": "stdout",
     "output_type": "stream",
     "text": [
      "time: 0.001101587999073672\n",
      "45.0 1.099057118354767 0.31185199797275476\n",
      "46.0 1.3718263057523672 0.3086445823669359\n",
      "47.0 1.6908850143843153 0.30547917513218253\n",
      "48.0 2.059207635490383 0.30235601306908555\n",
      "49.0 2.4790537789959375 0.2992756051490697\n",
      "50.0 2.9518551739744465 0.2962387265102957\n",
      "51.0 3.4781400496610946 0.29324643083388935\n",
      "52.00000000000001 4.057501441078789 0.2903000729847739\n",
      "53.00000000000001 4.68861245763323 0.28740132925934064\n",
      "54.00000000000001 5.369287845599497 0.28455220444366547\n",
      "55.00000000000001 6.09658752228287 0.28175502034055\n",
      "calls\n",
      "45.0 6.099057118354764\n",
      "46.0 5.371826305752364\n",
      "47.0 4.690885014384314\n",
      "48.0 4.059207635490381\n",
      "49.0 3.47905377899594\n",
      "50.0 2.951855173974444\n",
      "51.0 2.478140049661093\n",
      "52.00000000000001 2.0575014410787844\n",
      "53.00000000000001 1.6886124576332193\n",
      "54.00000000000001 1.3692878455994872\n",
      "55.00000000000001 1.09658752228286\n"
     ]
    }
   ],
   "source": [
    "t1=time.perf_counter()\n",
    "xs=np.log(F/Ks)\n",
    "ks = np.array(range(N))\n",
    "xxs = ks*np.pi/(b-a)\n",
    "\n",
    "#h = phi_heston2(xxs, kappa,theta,alpha,rho,V0,T) * vv_put_orig(a,b,ks)\n",
    "vv_po = vv_put_orig(a,b,ks)\n",
    "heston_a = phi_heston2_pre(xxs, kappa,theta,alpha,rho,T)\n",
    "h = phi_heston2_post(heston_a, V0) * vv_po\n",
    "res = np.zeros(len(Ks))\n",
    "iv = np.zeros(len(Ks))\n",
    "q=-1 #put\n",
    "numIt=1\n",
    "for i in range(len(xs)):\n",
    "    res[i] = Ks[i] * np.sum(h * np.exp(1j * (xs[i] - a) * xxs)).real\n",
    "    iv[i] = py_lets_be_quickly_rational.implied_volatility_from_a_transformed_rational_guess_with_limited_iterations(res[i], S0, Ks[i], T, q, numIt)\n",
    "t2=time.perf_counter()\n",
    "print(\"time:\", t2-t1)\n",
    "\n",
    "for i in range(len(Ks)):\n",
    "    print(Ks[i], res[i], iv[i])\n",
    "print(\"calls\")\n",
    "for i in range(len(Ks)):\n",
    "    print(Ks[i], res[i] + F - Ks[i])"
   ]
  },
  {
   "cell_type": "code",
   "execution_count": 42,
   "metadata": {
    "collapsed": true
   },
   "outputs": [],
   "source": [
    "# https://kluge.in-chemnitz.de/tools/pricer/heston_price.php?filled=1&T=0.25&strike=50&barrier_down=&barrier_up=&rd=1.000&rf=1.0&spot=50&sigma_0=0.25&sigma_a=0.3&kappa=3&xi=0.5&rho=-0.5&n_s=50&n_v=15&n_t=20"
   ]
  },
  {
   "cell_type": "code",
   "execution_count": 43,
   "metadata": {},
   "outputs": [
    {
     "data": {
      "text/plain": [
       "(1.517825186908322, 0.25231946480430256)"
      ]
     },
     "execution_count": 43,
     "metadata": {},
     "output_type": "execute_result"
    }
   ],
   "source": [
    "BS(50,52.5,T,0.2523194648043028), IV(1.5178251869083184,50,52.5,T)"
   ]
  },
  {
   "cell_type": "code",
   "execution_count": 44,
   "metadata": {
    "collapsed": true
   },
   "outputs": [],
   "source": [
    "modelParam = np.array([\n",
    "    [1.0, 0.25**2, 3.0, 0.3**2, 0.4, -0.6],\n",
    "    [1.0, 0.35**2, 3.0, 0.25**2, 0.4, -0.5],\n",
    "    [1.0, 0.3**2, 2.0, 0.3**2, 0.3, -0.7],\n",
    "])\n"
   ]
  },
  {
   "cell_type": "code",
   "execution_count": 72,
   "metadata": {
    "collapsed": true
   },
   "outputs": [],
   "source": [
    "T=2\n",
    "n_reset=8\n",
    "n_resetPerYear=n_reset//T\n",
    "n_simStepsPerReset=365//(n_resetPerYear)\n",
    "n_simStepsPerYear=n_simStepsPerReset*n_resetPerYear\n",
    "nt=n_simStepsPerReset*n_reset\n",
    "T_reset=[n_simStepsPerReset*q for q in range(1,n_reset)]\n",
    "\n",
    "dt=1.0/n_simStepsPerYear\n",
    "sqrtDt=dt**0.5\n",
    "na=C.shape[0]\n",
    "ns=10000\n",
    "volCorrel=0.002"
   ]
  },
  {
   "cell_type": "code",
   "execution_count": 73,
   "metadata": {},
   "outputs": [
    {
     "data": {
      "text/plain": [
       "array([[1.        , 0.70090732, 0.29465337],\n",
       "       [0.70090732, 1.        , 0.50022325],\n",
       "       [0.29465337, 0.50022325, 1.        ]])"
      ]
     },
     "execution_count": 73,
     "metadata": {},
     "output_type": "execute_result"
    }
   ],
   "source": [
    "#simulate correl\n",
    "U0 = np.linalg.cholesky(C).T\n",
    "U0 = np.repeat(U0[np.newaxis, :, :], ns, axis=0)\n",
    "U = np.repeat(U0[np.newaxis, :, :, :], n_reset+1, axis=0)\n",
    "for i in range(1, 1+n_reset):\n",
    "    A=U[i-1,:,:,:]\n",
    "    A=A + np.random.multivariate_normal(np.zeros(na),volCorrel**2*np.eye(na),size=(ns,na))\n",
    "    U[i,:,:,:]=A/np.linalg.norm(A,axis=1).reshape((ns,1,na))\n",
    "L = np.transpose(U, axes=[0,1,3,2])\n",
    "correls = np.matmul(L, U)\n",
    "correls[1,0,:,:]"
   ]
  },
  {
   "cell_type": "code",
   "execution_count": 74,
   "metadata": {
    "collapsed": true
   },
   "outputs": [],
   "source": [
    "# show path/evolution of one correlation matrix by three paths over time"
   ]
  },
  {
   "cell_type": "code",
   "execution_count": 75,
   "metadata": {},
   "outputs": [
    {
     "name": "stdout",
     "output_type": "stream",
     "text": [
      "(9, 10000, 3, 3) (8, 10000, 3, 91)\n",
      "(8, 10000, 3, 91)\n"
     ]
    }
   ],
   "source": [
    "W=np.random.normal(size=(n_reset,ns,na,n_simStepsPerReset)) # you could reduce here because S can do a big step\n",
    "print(U.shape, W.shape)\n",
    "W1=np.matmul(L[1:,:,:,:],W)\n",
    "print(W1.shape)"
   ]
  },
  {
   "cell_type": "code",
   "execution_count": 76,
   "metadata": {},
   "outputs": [
    {
     "data": {
      "text/plain": [
       "(-0.004908346763963762, 1.00677713237639)"
      ]
     },
     "execution_count": 76,
     "metadata": {},
     "output_type": "execute_result"
    }
   ],
   "source": [
    "#W1=np.random.normal(size=(n_reset,ns,na,n_simStepsPerReset)) # you could reduce here because S can do a big step\n",
    "np.mean(W1[1,:,1,1]), np.std(W1[1,:,1,1])"
   ]
  },
  {
   "cell_type": "code",
   "execution_count": 77,
   "metadata": {
    "collapsed": true
   },
   "outputs": [],
   "source": [
    "rho=np.ones_like(W1)\n",
    "rhoBar=np.ones_like(W1)\n",
    "for i in range(na):\n",
    "    rho[:,:,i,:]=modelParam[i,-1]\n",
    "    rhoBar[:,:,i,:]=(1-modelParam[i,-1]**2)**0.5\n",
    "W2 = rho*W1 + rhoBar * np.random.normal(size=(n_reset,ns,na,n_simStepsPerReset))"
   ]
  },
  {
   "cell_type": "code",
   "execution_count": 78,
   "metadata": {
    "collapsed": true
   },
   "outputs": [],
   "source": [
    "X=np.zeros((n_reset+1,ns,na))\n",
    "V=np.zeros((n_reset+1,ns,na))\n",
    "\n",
    "Xr=np.tile(np.log(modelParam[:,0]),(ns,1))\n",
    "Vr=np.tile(modelParam[:,1],(ns,1))\n",
    "X[0,:,:] = np.copy(Xr)\n",
    "V[0,:,:] = np.copy(Vr)\n",
    "\n",
    "for i in range(1, 1+n_reset):\n",
    "    for j in range(n_simStepsPerReset):\n",
    "        sqrtV = np.sqrt(Vr)\n",
    "        Xr = Xr + sqrtV * sqrtDt * W1[i-1,:,:,j] - 0.5 * Vr * dt\n",
    "        Vr = np.abs(Vr + modelParam[:,2]*(modelParam[:,3]-Vr)*dt + modelParam[:,4]*sqrtV*sqrtDt*W2[i-1,:,:,j])         \n",
    "    X[i,:,:] = Xr\n",
    "    V[i,:,:] = Vr\n",
    "S=np.exp(X)"
   ]
  },
  {
   "cell_type": "code",
   "execution_count": 79,
   "metadata": {},
   "outputs": [
    {
     "data": {
      "text/plain": [
       "array([-0.00034367,  0.00037886, -0.00123694])"
      ]
     },
     "execution_count": 79,
     "metadata": {},
     "output_type": "execute_result"
    }
   ],
   "source": [
    "kk=4\n",
    "np.mean(S[kk,:,:]/S[kk-1,:,:],axis=0)-1"
   ]
  },
  {
   "cell_type": "code",
   "execution_count": 80,
   "metadata": {},
   "outputs": [
    {
     "data": {
      "text/plain": [
       "array([0.00289984, 0.00254431, 0.0029366 ])"
      ]
     },
     "execution_count": 80,
     "metadata": {},
     "output_type": "execute_result"
    }
   ],
   "source": [
    "2*np.std(S[kk,:,:]/S[kk-1,:,:],axis=0)/ns**0.5"
   ]
  },
  {
   "cell_type": "code",
   "execution_count": 81,
   "metadata": {},
   "outputs": [
    {
     "data": {
      "text/plain": [
       "0.05103398270497992"
      ]
     },
     "execution_count": 81,
     "metadata": {},
     "output_type": "execute_result"
    }
   ],
   "source": [
    "np.mean(np.maximum(S[1,:,0]-1,0)) # es macht keinen sinn spaeter zeiten zu pruefen, weil die vol bzw var random ist"
   ]
  },
  {
   "cell_type": "code",
   "execution_count": 82,
   "metadata": {
    "collapsed": true
   },
   "outputs": [],
   "source": [
    "allWeights = []\n",
    "n = 11\n",
    "for i in range(n):\n",
    "    for j in range(n):\n",
    "        for k in range(n):\n",
    "            if i+j+k<=10:\n",
    "                allWeights.append((i,j,k,10-(i+j+k)))\n",
    "len(allWeights)\n",
    "startWeights=np.ones(na)/na"
   ]
  },
  {
   "cell_type": "code",
   "execution_count": null,
   "metadata": {
    "collapsed": true
   },
   "outputs": [],
   "source": []
  },
  {
   "cell_type": "code",
   "execution_count": null,
   "metadata": {
    "collapsed": true
   },
   "outputs": [],
   "source": [
    "vol_ref = np.sqrt(modelParam[:,3])\n",
    "ms = np.array([-0.5, 0, 0.5])\n",
    "nk=len(ms)\n",
    "periodDt = T/n_reset\n",
    "sqrtPeriodDt=periodDt**0.5\n",
    "\n",
    "Ks_base = np.exp(np.matmul(vol_ref.reshape((na,1)),ms.reshape((1,-1)))*sqrtPeriodDt)\n",
    "ks = np.array(range(N))\n",
    "a=np.zeros(na)\n",
    "b=np.zeros(na)\n",
    "vv_po = np.zeros((na,N))\n",
    "for k in range(na):\n",
    "    kappa, theta, alpha, rho = modelParam[k,2:]\n",
    "    c1, c2 = cumulants(kappa, theta, theta, periodDt)\n",
    "    LL=12\n",
    "    a[k]=c1 - LL*c2**0.5\n",
    "    b[k]=c1 + LL*c2**0.5\n",
    "    vv_po[k] = vv_put_orig(a[k],b[k],ks)\n",
    "xxs = np.pi * np.matmul(1/(b-a).reshape(na,1), ks.reshape(1,N))\n",
    "heston_a = []\n",
    "for k in range(na):\n",
    "    kappa, theta, alpha, rho = modelParam[k,2:]\n",
    "    heston_a.append(phi_heston2_pre(xxs[k], kappa,theta,alpha,rho,periodDt))\n",
    "\n",
    "\n",
    "t1=time.perf_counter()\n",
    "Ks = np.zeros((n_reset,ns,na,nk))\n",
    "prices = np.zeros((n_reset,ns,na,nk))\n",
    "vols = np.zeros((n_reset,ns,na,nk))\n",
    "for i in range(n_reset):\n",
    "    for j in range(ns):\n",
    "        Ks[i,j,:,:]=S[i,j,:].reshape((na,1))*Ks_base\n",
    "        for k in range(na):\n",
    "            Sk = S[i,j,k]\n",
    "            Vk = V[i,j,k]            \n",
    "            xs=np.log(1.0/Ks_base[k,:])\n",
    "            h = phi_heston2_post(heston_a[k],Vk) * vv_po[k] #vv_put_orig(a[k],b[k],ks)\n",
    "            q=-1 #put\n",
    "            numIt=1\n",
    "            for l in range(len(xs)):\n",
    "                prices[i,j,k,l] = Ks[i,j,k,l] * np.sum(h * np.exp(1j * (xs[l] - a[k]) * xxs[k])).real\n",
    "                print(Sk, Vk, Ks[i,j,k,l], prices[i,j,k,l])\n",
    "                vols[i,j,k,l] = py_lets_be_quickly_rational.implied_volatility_from_a_transformed_rational_guess_with_limited_iterations(\n",
    "                    prices[i,j,k,l], Sk, Ks[i,j,k,l], periodDt, q, numIt)\n",
    "t2=time.perf_counter()\n",
    "print(\"time:\", t2-t1)"
   ]
  },
  {
   "cell_type": "code",
   "execution_count": null,
   "metadata": {
    "collapsed": true
   },
   "outputs": [],
   "source": [
    "for kk in range(8):\n",
    "    print(vols[kk,0,0,:], Ks[kk,0,0,:], V[kk,0,0]**0.5)"
   ]
  },
  {
   "cell_type": "code",
   "execution_count": null,
   "metadata": {
    "collapsed": true
   },
   "outputs": [],
   "source": [
    "# compute vols seen at ech reset time for all later reset times \n",
    "vol_ref = np.sqrt(modelParam[:,3])\n",
    "ms = np.array([-0.2, 0])\n",
    "nk=len(ms)\n",
    "periodDt = T/n_reset\n",
    "sqrtPeriodDt=periodDt**0.5\n",
    "\n",
    "Ks_base = np.exp(np.matmul(vol_ref.reshape((na,1)),ms.reshape((1,-1))))\n",
    "Ks_base = [Ks_base*np.exp(i*sqrtPeriodDt) for i in range(1,n_reset)]\n",
    "ks = np.array(range(N))\n",
    "a=np.zeros((n_reset, na))\n",
    "b=np.zeros((n_reset, na))\n",
    "vv_po = np.zeros((n_reset, na, N))\n",
    "for it in range(n_reset):\n",
    "    for k in range(na):\n",
    "        kappa, theta, alpha, rho = modelParam[k,2:]\n",
    "        c1, c2 = cumulants(kappa, theta, theta, (it+1)*periodDt)\n",
    "        LL=12\n",
    "        a[it, k]=c1 - LL*c2**0.5\n",
    "        b[it, k]=c1 + LL*c2**0.5\n",
    "        vv_po[it, k] = vv_put_orig(a[it, k],b[it, k],ks)\n",
    "heston_a = []\n",
    "xxs=[]\n",
    "for it in range(n_reset):\n",
    "    xxs.append(np.pi * np.matmul(1/(b[it]-a[it]).reshape(na,1), ks.reshape(1,N)))\n",
    "    heston_ait = []\n",
    "    for k in range(na):\n",
    "        kappa, theta, alpha, rho = modelParam[k,2:]\n",
    "        heston_ait.append(phi_heston2_pre(xxs[-1][k], kappa,theta,alpha,rho,(it+1)*periodDt))\n",
    "    heston_a.append(heston_ait)\n",
    "\n",
    "t1=time.perf_counter()\n",
    "Ks = np.zeros((n_reset,n_reset,ns,na,nk))\n",
    "prices = np.zeros((n_reset,n_reset,ns,na,nk))\n",
    "vols = np.zeros((n_reset,n_reset,ns,na,nk))\n",
    "for i in range(n_reset):\n",
    "    for it in range(n_reset-i):\n",
    "        print(i,it)\n",
    "        for j in range(ns):\n",
    "            Ks[it,i,j,:,:]=S[i,j,:].reshape((na,1))*Ks_base[it]\n",
    "            for k in range(na):\n",
    "                Sk = S[i,j,k]\n",
    "                Vk = V[i,j,k]            \n",
    "                xs=np.log(1.0/Ks_base[it][k,:])\n",
    "                h = phi_heston2_post(heston_a[it][k],Vk) * vv_po[it, k] #vv_put_orig(a[k],b[k],ks)\n",
    "                q=-1 #put\n",
    "                numIt=1\n",
    "                for l in range(len(xs)):\n",
    "                    prices[it, i,j,k,l] = Ks[it, i,j,k,l] * np.sum(h * np.exp(1j * (xs[l] - a[it, k]) * xxs[it][k])).real\n",
    "                    vols[it, i,j,k,l] = py_lets_be_quickly_rational.implied_volatility_from_a_transformed_rational_guess_with_limited_iterations(\n",
    "                        prices[it, i,j,k,l], Sk, Ks[it, i,j,k,l], (1+it)*periodDt, q, numIt)\n",
    "t2=time.perf_counter()\n",
    "print(\"time:\", t2-t1)"
   ]
  },
  {
   "cell_type": "code",
   "execution_count": null,
   "metadata": {
    "collapsed": true
   },
   "outputs": [],
   "source": [
    "Ks_base[0]"
   ]
  },
  {
   "cell_type": "code",
   "execution_count": null,
   "metadata": {
    "collapsed": true
   },
   "outputs": [],
   "source": []
  },
  {
   "cell_type": "code",
   "execution_count": null,
   "metadata": {
    "collapsed": true
   },
   "outputs": [],
   "source": [
    "sigma_atm\n",
    "A=U[n_rest_i, path_i,:,:] >  corr\n",
    "A = A * eye(sigma_atm t**0.5)\n",
    "Si(0)\n",
    "Sbar=sum wi Si\n",
    "kappa=ln(K/Sbar)\n",
    "omegai=wi Si / Sbar\n",
    "Omega = eye(omegai)\n",
    "zstar=\n",
    "Kstar=exp(A*zstar)\n",
    "sigmai\n",
    "levy formula"
   ]
  },
  {
   "cell_type": "code",
   "execution_count": null,
   "metadata": {
    "collapsed": true
   },
   "outputs": [],
   "source": [
    "# observations = \n",
    "# w1,..,wn,\n",
    "# S1,..,Sn,\n",
    "# V1,..Vn,\n",
    "# sigma1(ms[0]),..sigma1(ms[-1]),...sigman(ms[-1]),\n",
    "# rho12,..rho1n,rho23,..rho(n-1)n\n",
    "# mit n = na\n",
    "\n",
    "T=periodDt\n",
    "K=1\n",
    "nsi = 0\n",
    "nri = 0\n",
    "\n",
    "# w = obs[:na]\n",
    "# S = obs[na:2*na]\n",
    "w = startWeights\n",
    "S = np.array(modelParam[:,0])\n",
    "\n",
    "Sbar = np.dot(w, S)\n",
    "kappa = np.log(K / Sbar)\n",
    "omega = w*S/Sbar\n",
    "Omega = np.diag(omega)\n",
    "\n",
    "m_mid=len(ms)//2\n",
    "sigma_atm = vols[nri,nsi,:,m_mid]\n",
    "\n",
    "A = L[nri, nsi, :, :]\n",
    "AVar = np.matmul(sqrtPeriodDt*np.diag(sigma_atm), A)\n",
    "C=np.matmul(AVar, AVar.T)\n",
    "\n",
    "omegaComega = np.matmul(omega.T, np.matmul(C, omega))\n",
    "zstar=kappa*np.matmul(A.T, omega) / omegaComega + kappa**2/2 *\\\n",
    "    np.matmul((np.eye(na) + 2 * np.matmul(A.T, np.matmul(Omega, A)) / omegaComega -\n",
    "               3*np.matmul(omega.T,np.matmul(C, np.matmul(Omega, np.matmul(C, omega)))) / omegaComega**2 * np.eye(na) ),\n",
    "             np.matmul(A.T, omega) / omegaComega)\n",
    "Kstar=S*np.exp(np.matmul(A, zstar))\n",
    "\n",
    "sigmaStar=np.zeros(na)\n",
    "for i in range(na):\n",
    "    sigmaStar[i] = interpolate.interp1d(Ks[nri,nsi,i,:], vols[nri,nsi,i,:])(Kstar[i])\n",
    "\n",
    "print(Kstar, sigmaStar)\n",
    "\n",
    "M=Sbar\n",
    "V2 = 0\n",
    "for i in range(na):\n",
    "    for j in range(na):\n",
    "        V2+=w[i]*w[j]*S[i]*S[j]*np.exp(sigmaStar[i]*sigmaStar[j]*T)\n",
    "m=2*np.log(M)-0.5*np.log(V2)\n",
    "v2=np.log(V2)-2*np.log(M)\n",
    "d1=(m-np.log(K)+v2)/v2**0.5\n",
    "d2=d1-v2**0.5\n",
    "priceBasket = M * norm.cdf(d1) - K * norm.cdf(d2)\n",
    "priceBasket"
   ]
  },
  {
   "cell_type": "code",
   "execution_count": null,
   "metadata": {
    "collapsed": true
   },
   "outputs": [],
   "source": [
    "Kstar"
   ]
  },
  {
   "cell_type": "code",
   "execution_count": null,
   "metadata": {
    "collapsed": true
   },
   "outputs": [],
   "source": [
    "zstar"
   ]
  },
  {
   "cell_type": "code",
   "execution_count": null,
   "metadata": {
    "collapsed": true
   },
   "outputs": [],
   "source": [
    "kappa*np.matmul(A.T, omega) / omegaComega"
   ]
  },
  {
   "cell_type": "code",
   "execution_count": 87,
   "metadata": {},
   "outputs": [
    {
     "name": "stdout",
     "output_type": "stream",
     "text": [
      "time: 101.19961253700058\n"
     ]
    }
   ],
   "source": [
    "t1=time.perf_counter()\n",
    "vol_ref = np.sqrt(modelParam[:,3])\n",
    "ms = np.array([-2, -0.5, 0, 0.5, 2])\n",
    "nk=len(ms)\n",
    "periodDt = T/n_reset\n",
    "sqrtPeriodDt=periodDt**0.5\n",
    "\n",
    "volStepSize = 0.05\n",
    "vol0s = np.arange(volStepSize,1,step=volStepSize)\n",
    "nv0=len(vol0s)\n",
    "Ks_base = np.exp(np.matmul(vol0s.reshape((-1,1)), ms.reshape((1,-1))*sqrtPeriodDt))\n",
    "ks = np.array(range(N))\n",
    "a=np.zeros((nv0, na))\n",
    "b=np.zeros((nv0, na))\n",
    "vv_po = np.zeros((nv0,na,N))\n",
    "xxs=[]\n",
    "heston_a = []\n",
    "for iv0 in range(nv0):\n",
    "    for k in range(na):\n",
    "        kappa, theta, alpha, rho = modelParam[k,2:]\n",
    "        c1, c2 = cumulants(kappa, theta, vol0s[iv0]**2, periodDt)\n",
    "        LL=12\n",
    "        a[iv0, k]=c1 - LL*c2**0.5\n",
    "        b[iv0, k]=c1 + LL*c2**0.5\n",
    "        vv_po[iv0, k] = vv_put_orig(a[iv0,k],b[iv0,k],ks)\n",
    "    xxs.append(np.pi * np.matmul(1/(b[iv0]-a[iv0]).reshape(na,1), ks.reshape(1,N)))\n",
    "    this_a=[]\n",
    "    for k in range(na):\n",
    "        kappa, theta, alpha, rho = modelParam[k,2:]\n",
    "        this_a.append(phi_heston2_pre(xxs[-1][k], kappa,theta,alpha,rho,periodDt))\n",
    "    heston_a.append(this_a)\n",
    "\n",
    "#t1=time.perf_counter()\n",
    "Ks = np.zeros((n_reset,ns,na,nk))\n",
    "prices = np.zeros((n_reset,ns,na,nk))\n",
    "vols = np.zeros((n_reset,ns,na,nk))\n",
    "for i in range(n_reset):\n",
    "    for j in range(ns):\n",
    "        for k in range(na):\n",
    "            Sk = S[i,j,k]\n",
    "            Vk = V[i,j,k]\n",
    "            iv0 = min(nv0-1, int((Vk**0.5)//volStepSize))\n",
    "            Ks[i,j,k,:]=S[i,j,k]*Ks_base[iv0]\n",
    "            xs=np.log(1.0/Ks_base[iv0,:])\n",
    "            h = phi_heston2_post(heston_a[iv0][k],Vk) * vv_po[iv0,k] #vv_put_orig(a[k],b[k],ks)\n",
    "            q=-1 #put\n",
    "            numIt=1\n",
    "            for l in range(len(xs)):\n",
    "                prices[i,j,k,l] = Ks[i,j,k,l] * np.sum(h * np.exp(1j * (xs[l] - a[iv0,k]) * xxs[iv0][k])).real\n",
    "#                 if i==n_reset-1:\n",
    "#                     print(k, Sk, Vk, Ks[i,j,k,l], prices[i,j,k,l])\n",
    "                vols[i,j,k,l] = py_lets_be_quickly_rational.implied_volatility_from_a_transformed_rational_guess_with_limited_iterations(\n",
    "                    prices[i,j,k,l], Sk, Ks[i,j,k,l], periodDt, q, numIt)\n",
    "t2=time.perf_counter()\n",
    "print(\"time:\", t2-t1)"
   ]
  },
  {
   "cell_type": "code",
   "execution_count": 70,
   "metadata": {},
   "outputs": [
    {
     "data": {
      "text/plain": [
       "0.17339826230067418"
      ]
     },
     "execution_count": 70,
     "metadata": {},
     "output_type": "execute_result"
    }
   ],
   "source": [
    "0.030066957368893407**0.5"
   ]
  },
  {
   "cell_type": "code",
   "execution_count": 71,
   "metadata": {},
   "outputs": [
    {
     "data": {
      "text/plain": [
       "0.4245908905096045"
      ]
     },
     "execution_count": 71,
     "metadata": {},
     "output_type": "execute_result"
    }
   ],
   "source": [
    " 0.001525795928- 2.2121488313629034  +  2.635213925944508"
   ]
  },
  {
   "cell_type": "code",
   "execution_count": null,
   "metadata": {
    "collapsed": true
   },
   "outputs": [],
   "source": []
  }
 ],
 "metadata": {
  "kernelspec": {
   "display_name": "imc",
   "language": "python",
   "name": "imc"
  },
  "language_info": {
   "codemirror_mode": {
    "name": "ipython",
    "version": 3
   },
   "file_extension": ".py",
   "mimetype": "text/x-python",
   "name": "python",
   "nbconvert_exporter": "python",
   "pygments_lexer": "ipython3",
   "version": "3.10.6"
  }
 },
 "nbformat": 4,
 "nbformat_minor": 2
}
