{
 "cells": [
  {
   "cell_type": "code",
   "execution_count": 37,
   "metadata": {
    "collapsed": true
   },
   "outputs": [],
   "source": [
    "import numpy as np\n",
    "from numpy.linalg import eig\n",
    "import pandas as pd\n",
    "import py_lets_be_quickly_rational\n",
    "import time\n",
    "from scipy import interpolate"
   ]
  },
  {
   "cell_type": "markdown",
   "metadata": {},
   "source": [
    "0) intro\n",
    "1) review > only optimal stopping\n",
    "2) model > stoch correl; no resim because chance player always the same; but exploration question remains; check with deepmind paper\n",
    "2) geodesic+grad descent\n",
    "3) dqn\n",
    "4) mcts"
   ]
  },
  {
   "cell_type": "code",
   "execution_count": 2,
   "metadata": {},
   "outputs": [
    {
     "name": "stdout",
     "output_type": "stream",
     "text": [
      "0.25\n",
      "0.5749999999999998\n",
      "0.27\n"
     ]
    }
   ],
   "source": [
    "# s0, v0, kappa, theta, alpha=vov, rho\n",
    "modelParam = np.array([\n",
    "    [1.0, 0.2**2, 4.0, 0.25**2, 0.5, -0.5],\n",
    "    [1.0, 0.25**2, 3.0, 0.35**2, 0.4, -0.6],\n",
    "    [1.0, 0.3**2, 2.0, 0.3**2, 0.3, -0.7],\n",
    "])\n",
    "\n",
    "n = len(modelParam)\n",
    "\n",
    "# constraint 2 theta vbar > alpha**2\n",
    "for i in range(n):\n",
    "    _, _, theta, vbar, alpha, _ = modelParam[i]\n",
    "    print(2*theta*vbar-alpha**2)"
   ]
  },
  {
   "cell_type": "code",
   "execution_count": 3,
   "metadata": {},
   "outputs": [
    {
     "name": "stdout",
     "output_type": "stream",
     "text": [
      "[[ 0.00000000e+00  0.00000000e+00  0.00000000e+00]\n",
      " [ 0.00000000e+00  1.11022302e-16  0.00000000e+00]\n",
      " [ 0.00000000e+00  0.00000000e+00 -2.22044605e-16]]\n",
      "[[1.         0.69051445 0.29834039]\n",
      " [0.69051445 1.         0.49906237]\n",
      " [0.29834039 0.49906237 1.        ]]\n"
     ]
    }
   ],
   "source": [
    "C = np.array([\n",
    "    [1.0, 0.7, 0.3],\n",
    "    [0.7, 1.0, 0.5],\n",
    "    [0.3, 0.5, 1.0]\n",
    "])\n",
    "\n",
    "L = np.linalg.cholesky(C)\n",
    "print(C-np.matmul(L, L.T))\n",
    "    \n",
    "for i in range(3):\n",
    "    b=np.random.multivariate_normal(np.zeros(3),0.02**2*np.eye(3))\n",
    "    a = L[i,:] + b\n",
    "    L[i,:] = a / np.linalg.norm(a)\n",
    "print(np.matmul(L, L.T))"
   ]
  },
  {
   "cell_type": "code",
   "execution_count": null,
   "metadata": {
    "collapsed": true
   },
   "outputs": [],
   "source": []
  },
  {
   "cell_type": "code",
   "execution_count": 4,
   "metadata": {
    "collapsed": true
   },
   "outputs": [],
   "source": [
    "def xi(a,b,c,d,k):\n",
    "    r1 = np.cos(k*np.pi*(d-a)/(b-a))*np.exp(d) - np.cos(k*np.pi*(c-a)/(b-a))*np.exp(c)\n",
    "    r2 = k*np.pi/(b-a)*np.sin(k*np.pi*(d-a)/(b-a))*np.exp(d) - k*np.pi/(b-a)*np.sin(k*np.pi*(c-a)/(b-a))*np.exp(c)\n",
    "    return (r1+r2) / (1+(k*np.pi/(b-a))**2)\n",
    "\n",
    "def vpsi(a,b,c,d,ks):\n",
    "    ks = np.maximum(ks,1)\n",
    "    r = (np.sin(ks*np.pi*(d-a)/(b-a)) - np.sin(ks*np.pi*(c-a)/(b-a)))*(b-a)/(ks*np.pi)\n",
    "    r[0] = d-c\n",
    "    return r\n",
    "\n",
    "def vv_put_orig(a, b, ks):\n",
    "    r = 2 / (b-a) * (-xi(a,b,a,0,ks)+vpsi(a,b,a,0,ks))\n",
    "    r[0] = r[0] / 2.0\n",
    "    return r\n",
    "\n",
    "def phi_heston2(omega, kappa,theta, alpha, rho,V0,T):\n",
    "    z=omega\n",
    "    tau=T\n",
    "    v=V0\n",
    "    vbar=theta\n",
    "    lamb=kappa\n",
    "    eta=alpha\n",
    "    a0=lamb-rho*eta*z*1j\n",
    "    gamma=np.power(eta**2*(z**2+z*1j)+a0*a0, 0.5)\n",
    "    G=(a0-gamma)/(a0+gamma)\n",
    "    a1=v/eta/eta*((1-np.exp(-gamma*tau))/(1-G*np.exp(-gamma*tau)))*(a0-gamma)\n",
    "    a2=lamb*vbar/eta/eta*(tau*(a0-gamma)-2*np.log((1-G*np.exp(-gamma*tau))/(1-G))) #c*vbar\n",
    "    return np.exp(a1+a2)\n",
    "\n",
    "def cumulants(kappa, theta, V0, t):\n",
    "    c1 = (1-np.exp(-kappa*t))*(theta-V0)/(2*kappa)-theta*t/2\n",
    "    c21 = V0 / (4*kappa**3) * (4*kappa**2*(1+(rho*alpha*t-1)*np.exp(-kappa*t))\n",
    "                             +kappa*(4*rho*alpha*(np.exp(-kappa*t)-1)-2*alpha**2*t*np.exp(-kappa*t))\n",
    "                             +alpha**2*(1-np.exp(-2*kappa*t)))\n",
    "    c22 = theta / (8*kappa**3) * (8*kappa**3*t - 8*kappa**2*(1+rho*alpha*t+(rho*alpha*t-1)*np.exp(-kappa*t))+\\\n",
    "                                  2*kappa*((1+2*np.exp(-kappa*t))*alpha**2*t+ 8*(1-np.exp(-kappa*t))*rho*alpha)+\\\n",
    "                                  alpha**2*(np.exp(-2*kappa*t)+4*np.exp(-kappa*t)-5))\n",
    "    return c1, c21+c22"
   ]
  },
  {
   "cell_type": "code",
   "execution_count": 5,
   "metadata": {
    "collapsed": true
   },
   "outputs": [],
   "source": [
    "T=1\n",
    "S0, V0, kappa, theta, alpha, rho = modelParam[1,:]\n",
    "c1, c2 = cumulants(kappa, theta, V0, T)\n",
    "L=12\n",
    "a=c1 - L*c2**0.5\n",
    "b=c1 + L*c2**0.5\n",
    "F=1\n",
    "N=50"
   ]
  },
  {
   "cell_type": "code",
   "execution_count": 12,
   "metadata": {},
   "outputs": [
    {
     "name": "stdout",
     "output_type": "stream",
     "text": [
      "time: 0.0009815669982344843\n",
      "0.95 0.09968511605031086\n",
      "0.96 0.1044186612554525\n",
      "0.97 0.10928112956123624\n",
      "0.98 0.11427204852082093\n",
      "0.99 0.11939082087068936\n",
      "1.0 0.12463672787430953\n",
      "1.01 0.13000893294040944\n",
      "1.02 0.13550648549460667\n",
      "1.03 0.14112832508270606\n",
      "1.04 0.14687328568367972\n",
      "1.05 0.15274010021014287\n",
      "calls\n",
      "0.95 0.14968511605031098\n",
      "0.96 0.14441866125545255\n",
      "0.97 0.13928112956123617\n",
      "0.98 0.13427204852082086\n",
      "0.99 0.12939082087068932\n",
      "1.0 0.12463672787430946\n",
      "1.01 0.12000893294040949\n",
      "1.02 0.11550648549460663\n",
      "1.03 0.11112832508270598\n",
      "1.04 0.1068732856836796\n",
      "1.05 0.1027401002101429\n"
     ]
    }
   ],
   "source": [
    "Ks=np.linspace(0.95,1.05,11)\n",
    "t1=time.perf_counter()\n",
    "xs=np.log(F/Ks)\n",
    "ks = np.array(range(N))\n",
    "xxs = ks*np.pi/(b-a)\n",
    "\n",
    "h = phi_heston2(xxs, kappa,theta,alpha,rho,V0,T) * vv_put_orig(a,b,ks)\n",
    "res = np.zeros(len(Ks))\n",
    "iv = np.zeros(len(Ks))\n",
    "q=-1 #put\n",
    "numIt=1\n",
    "for i in range(len(xs)):\n",
    "    res[i] = Ks[i] * np.sum(h * np.exp(1j * (xs[i] - a) * xxs)).real\n",
    "    iv[i] = py_lets_be_quickly_rational.implied_volatility_from_a_transformed_rational_guess_with_limited_iterations(res[i], S0, Ks[i], T, q, numIt)\n",
    "t2=time.perf_counter()\n",
    "print(\"time:\", t2-t1)\n",
    "\n",
    "for i in range(len(Ks)):\n",
    "    print(Ks[i], res[i])\n",
    "print(\"calls\")\n",
    "for i in range(len(Ks)):\n",
    "    print(Ks[i], res[i] + 1 - Ks[i])"
   ]
  },
  {
   "cell_type": "code",
   "execution_count": null,
   "metadata": {
    "collapsed": true
   },
   "outputs": [],
   "source": []
  },
  {
   "cell_type": "code",
   "execution_count": 20,
   "metadata": {
    "collapsed": true
   },
   "outputs": [],
   "source": [
    "T=2\n",
    "n_reset=8\n",
    "n_resetPerYear=n_reset//T\n",
    "n_simStepsPerReset=365//(n_resetPerYear)\n",
    "n_simStepsPerYear=n_simStepsPerReset*n_resetPerYear\n",
    "nt=n_simStepsPerReset*n_reset\n",
    "T_reset=[n_simStepsPerReset*q for q in range(1,n_reset)]\n",
    "\n",
    "dt=1.0/n_simStepsPerYear\n",
    "sqrtDt=dt**0.5\n",
    "na=C.shape[0]\n",
    "ns=10000\n",
    "volCorrel=0.02"
   ]
  },
  {
   "cell_type": "code",
   "execution_count": 21,
   "metadata": {
    "collapsed": true
   },
   "outputs": [],
   "source": [
    "#simulate correl\n",
    "U0 = np.linalg.cholesky(C).T\n",
    "U0 = np.repeat(U0[np.newaxis, :, :], ns, axis=0)\n",
    "U = np.repeat(U0[np.newaxis, :, :, :], n_reset, axis=0)\n",
    "for i in range(n_reset):\n",
    "    A=U0 if i==0 else U[i-1,:,:,:]\n",
    "    A=A + np.random.multivariate_normal(np.zeros(na),volCorrel**2*np.eye(na),size=(ns,na))\n",
    "    U[i,:,:,:]=A/np.linalg.norm(A,axis=2)[:,:,np.newaxis]\n",
    "#np.matmul(U[-1,0,:,:], U[-1,0,:,:].T)"
   ]
  },
  {
   "cell_type": "code",
   "execution_count": 23,
   "metadata": {},
   "outputs": [
    {
     "name": "stdout",
     "output_type": "stream",
     "text": [
      "(8, 10000, 3, 3) (8, 10000, 3, 91)\n",
      "(8, 10000, 3, 91)\n"
     ]
    }
   ],
   "source": [
    "W=np.random.normal(size=(n_reset,ns,na,n_simStepsPerReset))\n",
    "print(U.shape, W.shape)\n",
    "W1=np.matmul(U,W)\n",
    "print(W1.shape)"
   ]
  },
  {
   "cell_type": "code",
   "execution_count": 25,
   "metadata": {},
   "outputs": [],
   "source": [
    "rho=np.ones_like(W1)\n",
    "for i in range(na):\n",
    "    rho[:,:,i,:]=modelParam[i,-1]\n",
    "W2 = rho*W1 + np.sqrt(1-np.square(rho)) * np.random.normal(size=(n_reset,ns,na,n_simStepsPerReset))"
   ]
  },
  {
   "cell_type": "code",
   "execution_count": 26,
   "metadata": {},
   "outputs": [],
   "source": [
    "X=np.zeros((n_reset,ns,na))\n",
    "V=np.zeros((n_reset,ns,na))\n",
    "\n",
    "Xr=np.tile(np.log(modelParam[:,0]),(ns,1))\n",
    "Vr=np.tile(modelParam[:,1],(ns,1))\n",
    "\n",
    "for i in range(n_reset):\n",
    "    for j in range(n_simStepsPerReset):\n",
    "        sqrtV = np.sqrt(Vr)\n",
    "        Xr = Xr + sqrtV * sqrtDt * W1[i,:,:,j] - 0.5 * Vr * dt\n",
    "        Vr = np.abs(modelParam[:,2]*(modelParam[:,3]-Vr)*dt + modelParam[:,4]*sqrtV*sqrtDt*W2[i,:,:,j])         \n",
    "    X[i,:,:] = Xr\n",
    "    V[i,:,:] = Vr\n",
    "S=np.exp(X)"
   ]
  },
  {
   "cell_type": "code",
   "execution_count": 27,
   "metadata": {},
   "outputs": [
    {
     "data": {
      "text/plain": [
       "array([0.99952614, 0.99994377, 0.99987206])"
      ]
     },
     "execution_count": 27,
     "metadata": {},
     "output_type": "execute_result"
    }
   ],
   "source": [
    "np.mean(S[-1,:,:],axis=0)"
   ]
  },
  {
   "cell_type": "code",
   "execution_count": null,
   "metadata": {
    "collapsed": true
   },
   "outputs": [],
   "source": []
  },
  {
   "cell_type": "code",
   "execution_count": 35,
   "metadata": {},
   "outputs": [],
   "source": [
    "nk=9\n",
    "vol_ref = np.sqrt(modelParam[:,3])\n",
    "ms = np.array([-5,-3, -2.5,-2, -1.5,-1, -0.75,-0.5, -0.25, 0, 0.25, 0.5, 0.75, 1, 1.5, 2, 2.5, 3, 5])\n",
    "periodDt = T/n_reset\n",
    "sqrtPeriodDt=periodDt**0.5\n",
    "\n",
    "Ks = np.zeros((n_reset-1,ns,na,nk))\n",
    "prices = np.zeros((n_reset-1,ns,na,nk))\n",
    "vols = np.zeros((n_reset-1,ns,na,nk))\n",
    "for i in range(n_reset-1):\n",
    "    for j in range(2): #ns\n",
    "        Ks[i,j,:,:]=S[i,j,:].reshape((na,1))*np.exp(np.matmul(vol_ref.reshape((na,1)),ms.reshape((1,-1)))*sqrtPeriodDt)\n",
    "        for k in range(na):\n",
    "            Sk = S[i,j,k]\n",
    "            Vk = V[i,j,k]\n",
    "            kappa, theta, alpha, rho = modelParam[k,2:]\n",
    "            c1, c2 = cumulants(kappa, theta, Vk, periodDt)\n",
    "            L=12\n",
    "            a=c1 - L*c2**0.5\n",
    "            b=c1 + L*c2**0.5\n",
    "            F=Sk\n",
    "            \n",
    "            xs=np.log(F/Ks[i,j,k,:])\n",
    "            ks = np.array(range(N))\n",
    "            xxs = ks*np.pi/(b-a)\n",
    "\n",
    "            h = phi_heston2(xxs, kappa,theta,alpha,rho,Vk, periodDt) * vv_put_orig(a,b,ks)\n",
    "            res = np.zeros(len(Ks))\n",
    "            iv = np.zeros(len(Ks))\n",
    "            q=-1 #put\n",
    "            numIt=1\n",
    "            for l in range(len(xs)):\n",
    "                prices[i,j,k,l] = Ks[l] * np.sum(h * np.exp(1j * (xs[l] - a) * xxs)).real\n",
    "                vols[i,j,k,l] = py_lets_be_quickly_rational.implied_volatility_from_a_transformed_rational_guess_with_limited_iterations(\n",
    "                    prices[i,j,k,l], Sk, Ks[l], periodDt, q, numIt)"
   ]
  },
  {
   "cell_type": "code",
   "execution_count": null,
   "metadata": {
    "collapsed": true
   },
   "outputs": [],
   "source": []
  },
  {
   "cell_type": "code",
   "execution_count": null,
   "metadata": {},
   "outputs": [],
   "source": [
    "parametrisation policy\n",
    "w, s0, v0, vols, correls\n"
   ]
  },
  {
   "cell_type": "code",
   "execution_count": null,
   "metadata": {
    "collapsed": true
   },
   "outputs": [],
   "source": [
    "actions:\n",
    "    cts too big a step\n",
    "    increase one, decrease one\n",
    "    5 linear function"
   ]
  },
  {
   "cell_type": "code",
   "execution_count": null,
   "metadata": {
    "collapsed": true
   },
   "outputs": [],
   "source": []
  },
  {
   "cell_type": "code",
   "execution_count": null,
   "metadata": {
    "collapsed": true
   },
   "outputs": [],
   "source": [
    "sigma_atm\n",
    "A=U[n_rest_i, path_i,:,:] >  corr\n",
    "A = A * eye(sigma_atm t**0.5)\n",
    "Si(0)\n",
    "Sbar=sum wi Si\n",
    "kappa=ln(K/Sbar)\n",
    "omegai=wi Si / Sbar\n",
    "Omega = eye(omegai)\n",
    "zstar=\n",
    "Kstar=exp(A*zstar)\n",
    "sigmai\n",
    "levy formula"
   ]
  },
  {
   "cell_type": "code",
   "execution_count": null,
   "metadata": {
    "collapsed": true
   },
   "outputs": [],
   "source": [
    "# observations = \n",
    "# w1,..,wn,\n",
    "# S1,..,Sn,\n",
    "# V1,..Vn,\n",
    "# sigma1(ms[0]),..sigma1(ms[-1]),...sigman(ms[-1]),\n",
    "# rho12,..rho1n,rho23,..rho(n-1)n\n",
    "# mit n = na\n",
    "\n",
    "K=1\n",
    "nsi = 0\n",
    "nri = 0\n",
    "\n",
    "sigma_atm = np.zeros(na)\n",
    "m_mid=ms//2\n",
    "for i in range(na):\n",
    "    sigma_atm[i] = obs[3*na+m_mid+i*len(ms)]\n",
    "# nein, nicht A berechnen von correlations. \n",
    "AVar = np.matmul(A, sqrtPeriodDt*np.diag(sigma_atm))    \n",
    "w = obs[:na]\n",
    "S = obs[na:2*na]\n",
    "Sbar = np.dot(w, S)\n",
    "kappa = math.log(K / Sbar)\n",
    "omega = w*S/Sbar\n",
    "Omega=np.diag(omega)\n",
    "C=np.ones((na, na))\n",
    "c=0\n",
    "for i in range(1, na):\n",
    "    C[i-1,i:]=obs(na*(3+len(ms))+c:na*(3+len(ms))+c+na-i)\n",
    "    C[i:,i-1]=C[i-1,i:].T\n",
    "    c+=na-i\n",
    "omegaComega = np.matmul(omega.T, np.matmul(C, omega))\n",
    "zstar=kappa*np.matmul(A.T, omega) / omegaComega * ( 1 + kappa/2 *\n",
    "    (np.eye(na) + 2 * np.matmul(A.T, np.matmul(Omega, A)) / omegaComega -\n",
    "    3*np.matmul(omega.T,npmatmul(C, np.matmul(Omega, np.matmul(C, omega)))) / omegaComega**2 * np.eye(na) ))\n",
    "Kstar=S*np.exp(np.matmul(A, zstar))\n",
    "sigma=np.zeros(na)\n",
    "for i in range(na):\n",
    "    sigma[i] = interpolate.interp1d(Ks[nri,nsi,i,:], obs[3*na+i*len(ms):3*na+(i+1)*len(ms)])(Kstar[i])\n"
   ]
  },
  {
   "cell_type": "code",
   "execution_count": null,
   "metadata": {
    "collapsed": true
   },
   "outputs": [],
   "source": [
    "https://silo.tips/download/an-analysis-of-pricing-methods-for-baskets-options"
   ]
  },
  {
   "cell_type": "code",
   "execution_count": null,
   "metadata": {
    "collapsed": true
   },
   "outputs": [],
   "source": []
  },
  {
   "cell_type": "code",
   "execution_count": null,
   "metadata": {
    "collapsed": true
   },
   "outputs": [],
   "source": []
  },
  {
   "cell_type": "code",
   "execution_count": null,
   "metadata": {
    "collapsed": true
   },
   "outputs": [],
   "source": []
  },
  {
   "cell_type": "code",
   "execution_count": null,
   "metadata": {
    "collapsed": true
   },
   "outputs": [],
   "source": []
  }
 ],
 "metadata": {
  "kernelspec": {
   "display_name": "imc",
   "language": "python",
   "name": "imc"
  },
  "language_info": {
   "codemirror_mode": {
    "name": "ipython",
    "version": 3
   },
   "file_extension": ".py",
   "mimetype": "text/x-python",
   "name": "python",
   "nbconvert_exporter": "python",
   "pygments_lexer": "ipython3",
   "version": "3.10.6"
  }
 },
 "nbformat": 4,
 "nbformat_minor": 2
}
