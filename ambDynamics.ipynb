{
 "cells": [
  {
   "cell_type": "code",
   "execution_count": null,
   "metadata": {
    "collapsed": true
   },
   "outputs": [],
   "source": [
    "dynamic monte carlo\n",
    "\n",
    "finance: focus on optimal stopping, am or ac\n",
    "ls+tsi: mc for optimal stopping\n",
    "several: pde for am\n",
    "seq dec: stoch control>pde low dim\n",
    "    \n",
    "rl: focus on seq dec\n",
    "dyn prg = pde too slow\n",
    "sample appr\n",
    "value method = mc = ls\n",
    "pg also exists in finance, see eg jaeckel\n",
    "\n",
    "finance requires high reliability+prec+speed (for intraday risk calcs) in a constantly changing model (because mkt data change)\n",
    "\n",
    "new appr: dyn mc\n",
    "compare to heuristic (geodesic) and dqn (stable baseline)\n"
   ]
  },
  {
   "cell_type": "code",
   "execution_count": null,
   "metadata": {
    "collapsed": true
   },
   "outputs": [],
   "source": []
  },
  {
   "cell_type": "code",
   "execution_count": null,
   "metadata": {
    "collapsed": true
   },
   "outputs": [],
   "source": []
  },
  {
   "cell_type": "code",
   "execution_count": null,
   "metadata": {
    "collapsed": true
   },
   "outputs": [],
   "source": []
  },
  {
   "cell_type": "code",
   "execution_count": null,
   "metadata": {
    "collapsed": true
   },
   "outputs": [],
   "source": []
  },
  {
   "cell_type": "code",
   "execution_count": null,
   "metadata": {
    "collapsed": true
   },
   "outputs": [],
   "source": []
  },
  {
   "cell_type": "code",
   "execution_count": null,
   "metadata": {
    "collapsed": true
   },
   "outputs": [],
   "source": []
  },
  {
   "cell_type": "code",
   "execution_count": null,
   "metadata": {
    "collapsed": true
   },
   "outputs": [],
   "source": []
  },
  {
   "cell_type": "code",
   "execution_count": null,
   "metadata": {
    "collapsed": true
   },
   "outputs": [],
   "source": []
  },
  {
   "cell_type": "code",
   "execution_count": null,
   "metadata": {
    "collapsed": true
   },
   "outputs": [],
   "source": []
  },
  {
   "cell_type": "code",
   "execution_count": null,
   "metadata": {
    "collapsed": true
   },
   "outputs": [],
   "source": []
  },
  {
   "cell_type": "code",
   "execution_count": null,
   "metadata": {
    "collapsed": true
   },
   "outputs": [],
   "source": []
  },
  {
   "cell_type": "code",
   "execution_count": 1,
   "metadata": {
    "collapsed": true
   },
   "outputs": [],
   "source": [
    "import numpy as np\n",
    "from numpy.linalg import eig\n",
    "import pandas as pd\n",
    "import py_lets_be_quickly_rational\n",
    "import time\n",
    "from scipy import interpolate\n",
    "from scipy.stats import norm\n",
    "from scipy.optimize import brentq"
   ]
  },
  {
   "cell_type": "markdown",
   "metadata": {},
   "source": [
    "0) intro\n",
    "1) review > only optimal stopping\n",
    "2) model > stoch correl; no resim because chance player always the same; but exploration question remains; check with deepmind paper\n",
    "2) geodesic+grad descent\n",
    "3) dqn\n",
    "4) mcts"
   ]
  },
  {
   "cell_type": "code",
   "execution_count": 2,
   "metadata": {
    "collapsed": true
   },
   "outputs": [],
   "source": [
    "def BS(F,K,T,vol):\n",
    "    d1=(np.log(F/K)+0.5*vol**2*T)/(vol*T**0.5)\n",
    "    d2=d1-vol*T**0.5\n",
    "    return F*norm.cdf(d1) - K*norm.cdf(d2)\n",
    "\n",
    "def IV(price,F,K,T):\n",
    "    return brentq(lambda v: BS(F,K,T,v)-price, 0.01, 0.5)"
   ]
  },
  {
   "cell_type": "code",
   "execution_count": 3,
   "metadata": {},
   "outputs": [
    {
     "name": "stdout",
     "output_type": "stream",
     "text": [
      "0.25\n",
      "0.21499999999999997\n",
      "0.27\n"
     ]
    }
   ],
   "source": [
    "# s0, v0, kappa, theta, alpha=vov, rho\n",
    "modelParam = np.array([\n",
    "    [50.0, 0.2**2, 4.0, 0.25**2, 0.5, -0.5],\n",
    "    [50.0, 0.35**2, 3.0, 0.25**2, 0.4, -0.6],\n",
    "    [50.0, 0.3**2, 2.0, 0.3**2, 0.3, -0.7],\n",
    "])\n",
    "\n",
    "n = len(modelParam)\n",
    "\n",
    "# constraint 2 theta vbar > alpha**2\n",
    "for i in range(n):\n",
    "    _, _, theta, vbar, alpha, _ = modelParam[i]\n",
    "    print(2*theta*vbar-alpha**2)"
   ]
  },
  {
   "cell_type": "code",
   "execution_count": 4,
   "metadata": {},
   "outputs": [
    {
     "name": "stdout",
     "output_type": "stream",
     "text": [
      "[[1.         0.7        0.3       ]\n",
      " [0.         0.71414284 0.40608122]\n",
      " [0.         0.         0.86319062]]\n",
      "[[1.  0.7 0.3]\n",
      " [0.7 1.  0.5]\n",
      " [0.3 0.5 1. ]]\n",
      "[[ 0.00000000e+00  0.00000000e+00  0.00000000e+00]\n",
      " [ 0.00000000e+00  1.11022302e-16  0.00000000e+00]\n",
      " [ 0.00000000e+00  0.00000000e+00 -2.22044605e-16]]\n",
      "[[1.         0.68917566 0.31621488]\n",
      " [0.68917566 1.         0.52417177]\n",
      " [0.31621488 0.52417177 1.        ]]\n"
     ]
    }
   ],
   "source": [
    "C = np.array([\n",
    "    [1.0, 0.7, 0.3],\n",
    "    [0.7, 1.0, 0.5],\n",
    "    [0.3, 0.5, 1.0]\n",
    "])\n",
    "\n",
    "L = np.linalg.cholesky(C)\n",
    "print(L.T)\n",
    "print(np.matmul(L, L.T))\n",
    "print(C-np.matmul(L, L.T))\n",
    "    \n",
    "for i in range(3):\n",
    "    b=np.random.multivariate_normal(np.zeros(3),0.02**2*np.eye(3))\n",
    "    a = L[i,:] + b\n",
    "    L[i,:] = a / np.linalg.norm(a)\n",
    "print(np.matmul(L, L.T))"
   ]
  },
  {
   "cell_type": "code",
   "execution_count": null,
   "metadata": {
    "collapsed": true
   },
   "outputs": [],
   "source": []
  },
  {
   "cell_type": "code",
   "execution_count": 5,
   "metadata": {
    "collapsed": true
   },
   "outputs": [],
   "source": [
    "def xi(a,b,c,d,k):\n",
    "    r1 = np.cos(k*np.pi*(d-a)/(b-a))*np.exp(d) - np.cos(k*np.pi*(c-a)/(b-a))*np.exp(c)\n",
    "    r2 = k*np.pi/(b-a)*np.sin(k*np.pi*(d-a)/(b-a))*np.exp(d) - k*np.pi/(b-a)*np.sin(k*np.pi*(c-a)/(b-a))*np.exp(c)\n",
    "    return (r1+r2) / (1+(k*np.pi/(b-a))**2)\n",
    "\n",
    "def vpsi(a,b,c,d,ks):\n",
    "    ks = np.maximum(ks,1)\n",
    "    r = (np.sin(ks*np.pi*(d-a)/(b-a)) - np.sin(ks*np.pi*(c-a)/(b-a)))*(b-a)/(ks*np.pi)\n",
    "    r[0] = d-c\n",
    "    return r\n",
    "\n",
    "def vv_put_orig(a, b, ks):\n",
    "    r = 2 / (b-a) * (-xi(a,b,a,0,ks)+vpsi(a,b,a,0,ks))\n",
    "    r[0] = r[0] / 2.0\n",
    "    return r\n",
    "\n",
    "def phi_heston2_pre(omega, kappa,theta, alpha, rho,T):\n",
    "    z=omega\n",
    "    tau=T\n",
    "    v=V0\n",
    "    vbar=theta\n",
    "    lamb=kappa\n",
    "    eta=alpha\n",
    "    a0=lamb-rho*eta*z*1j\n",
    "    gamma=np.power(eta**2*(z**2+z*1j)+a0*a0, 0.5)\n",
    "    G=(a0-gamma)/(a0+gamma)\n",
    "    a1=1.0/eta/eta*((1-np.exp(-gamma*tau))/(1-G*np.exp(-gamma*tau)))*(a0-gamma)\n",
    "    a2=lamb*vbar/eta/eta*(tau*(a0-gamma)-2*np.log((1-G*np.exp(-gamma*tau))/(1-G))) #c*vbar\n",
    "    return a1, a2\n",
    "\n",
    "def phi_heston2(omega, kappa,theta, alpha, rho,V0,T):\n",
    "    a1, a2 = phi_heston2_pre(omega, kappa,theta, alpha, rho,T)\n",
    "    return np.exp(V0*a1+a2)\n",
    "\n",
    "def phi_heston2_post(a,V0):\n",
    "    a1, a2 = a\n",
    "    return np.exp(V0*a1+a2)\n",
    "\n",
    "def cumulants(kappa, theta, V0, t):\n",
    "    c1 = (1-np.exp(-kappa*t))*(theta-V0)/(2*kappa)-theta*t/2\n",
    "    c21 = V0 / (4*kappa**3) * (4*kappa**2*(1+(rho*alpha*t-1)*np.exp(-kappa*t))\n",
    "                             +kappa*(4*rho*alpha*(np.exp(-kappa*t)-1)-2*alpha**2*t*np.exp(-kappa*t))\n",
    "                             +alpha**2*(1-np.exp(-2*kappa*t)))\n",
    "    c22 = theta / (8*kappa**3) * (8*kappa**3*t - 8*kappa**2*(1+rho*alpha*t+(rho*alpha*t-1)*np.exp(-kappa*t))+\\\n",
    "                                  2*kappa*((1+2*np.exp(-kappa*t))*alpha**2*t+ 8*(1-np.exp(-kappa*t))*rho*alpha)+\\\n",
    "                                  alpha**2*(np.exp(-2*kappa*t)+4*np.exp(-kappa*t)-5))\n",
    "    return c1, c21+c22"
   ]
  },
  {
   "cell_type": "code",
   "execution_count": 6,
   "metadata": {
    "collapsed": true
   },
   "outputs": [],
   "source": [
    "T=1\n",
    "S0, V0, kappa, theta, alpha, rho = modelParam[1,:]\n",
    "c1, c2 = cumulants(kappa, theta, V0, T)\n",
    "c1, c2 = cumulants(kappa, theta, theta, T)\n",
    "L=12\n",
    "a=c1 - L*c2**0.5\n",
    "b=c1 + L*c2**0.5\n",
    "F=S0\n",
    "N=50"
   ]
  },
  {
   "cell_type": "code",
   "execution_count": 7,
   "metadata": {},
   "outputs": [
    {
     "name": "stdout",
     "output_type": "stream",
     "text": [
      "time: 0.22744050301844254\n",
      "47.5 4.2958211189765345 0.2814678591164585\n",
      "48.0 4.521276278991514 0.28042424770038593\n",
      "48.5 4.753970048093133 0.27939376688469625\n",
      "49.0 4.993908093570017 0.2783763327657272\n",
      "49.5 5.241086677816877 0.2773718645600243\n",
      "50.0 5.495492712891834 0.27638028438281337\n",
      "50.5 5.7571038500202825 0.27540151703004395\n",
      "51.0 6.025888603392088 0.27443548976228105\n",
      "51.5 6.301806507399299 0.2734821320892611\n",
      "52.0 6.584808306270032 0.27254137555448454\n",
      "52.5 6.874836174869328 0.2716131535196758\n",
      "calls\n",
      "47.5 6.795821118976534\n",
      "48.0 6.521276278991515\n",
      "48.5 6.25397004809313\n",
      "49.0 5.993908093570013\n",
      "49.5 5.741086677816881\n",
      "50.0 5.495492712891831\n",
      "50.5 5.257103850020286\n",
      "51.0 5.02588860339209\n",
      "51.5 4.801806507399299\n",
      "52.0 4.584808306270034\n",
      "52.5 4.37483617486933\n"
     ]
    }
   ],
   "source": [
    "Ks=np.linspace(0.95*F,1.05*F,11)\n",
    "t1=time.perf_counter()\n",
    "xs=np.log(F/Ks)\n",
    "ks = np.array(range(N))\n",
    "xxs = ks*np.pi/(b-a)\n",
    "\n",
    "h = phi_heston2(xxs, kappa,theta,alpha,rho,V0,T) * vv_put_orig(a,b,ks)\n",
    "res = np.zeros(len(Ks))\n",
    "iv = np.zeros(len(Ks))\n",
    "q=-1 #put\n",
    "numIt=1\n",
    "for i in range(len(xs)):\n",
    "    res[i] = Ks[i] * np.sum(h * np.exp(1j * (xs[i] - a) * xxs)).real\n",
    "    iv[i] = py_lets_be_quickly_rational.implied_volatility_from_a_transformed_rational_guess_with_limited_iterations(res[i], S0, Ks[i], T, q, numIt)\n",
    "t2=time.perf_counter()\n",
    "print(\"time:\", t2-t1)\n",
    "\n",
    "for i in range(len(Ks)):\n",
    "    print(Ks[i], res[i], iv[i])\n",
    "print(\"calls\")\n",
    "for i in range(len(Ks)):\n",
    "    print(Ks[i], res[i] + F - Ks[i])"
   ]
  },
  {
   "cell_type": "code",
   "execution_count": 8,
   "metadata": {},
   "outputs": [
    {
     "data": {
      "text/plain": [
       "(4.374836174869323, 0.2716131535196756)"
      ]
     },
     "execution_count": 8,
     "metadata": {},
     "output_type": "execute_result"
    }
   ],
   "source": [
    "BS(50,52.5,1,0.2716131535196757), IV(4.37483617486933,50,52.5,1)"
   ]
  },
  {
   "cell_type": "code",
   "execution_count": 9,
   "metadata": {
    "collapsed": true
   },
   "outputs": [],
   "source": [
    "T=2\n",
    "n_reset=8\n",
    "n_resetPerYear=n_reset//T\n",
    "n_simStepsPerReset=365//(n_resetPerYear)\n",
    "n_simStepsPerYear=n_simStepsPerReset*n_resetPerYear\n",
    "nt=n_simStepsPerReset*n_reset\n",
    "T_reset=[n_simStepsPerReset*q for q in range(1,n_reset)]\n",
    "\n",
    "dt=1.0/n_simStepsPerYear\n",
    "sqrtDt=dt**0.5\n",
    "na=C.shape[0]\n",
    "ns=250000\n",
    "volCorrel=0.002"
   ]
  },
  {
   "cell_type": "code",
   "execution_count": 10,
   "metadata": {},
   "outputs": [
    {
     "data": {
      "text/plain": [
       "array([[1.        , 0.70701798, 0.3082144 ],\n",
       "       [0.70701798, 1.        , 0.50779946],\n",
       "       [0.3082144 , 0.50779946, 1.        ]])"
      ]
     },
     "execution_count": 10,
     "metadata": {},
     "output_type": "execute_result"
    }
   ],
   "source": [
    "#simulate correl\n",
    "U0 = np.linalg.cholesky(C).T\n",
    "U0 = np.repeat(U0[np.newaxis, :, :], ns, axis=0)\n",
    "U = np.repeat(U0[np.newaxis, :, :, :], n_reset, axis=0)\n",
    "for i in range(n_reset):\n",
    "    A=U0 if i==0 else U[i-1,:,:,:]\n",
    "    A=A + np.random.multivariate_normal(np.zeros(na),volCorrel**2*np.eye(na),size=(ns,na))\n",
    "    U[i,:,:,:]=A/np.linalg.norm(A,axis=1).reshape((ns,1,na))\n",
    "np.matmul(U[-1,0,:,:].T, U[-1,0,:,:])"
   ]
  },
  {
   "cell_type": "code",
   "execution_count": 11,
   "metadata": {
    "collapsed": true
   },
   "outputs": [],
   "source": [
    "# show path/evolution of one correlation matrix by three paths over time"
   ]
  },
  {
   "cell_type": "code",
   "execution_count": 12,
   "metadata": {},
   "outputs": [
    {
     "name": "stdout",
     "output_type": "stream",
     "text": [
      "(8, 250000, 3, 3) (8, 250000, 3, 91)\n",
      "(8, 250000, 3, 91)\n"
     ]
    }
   ],
   "source": [
    "W=np.random.normal(size=(n_reset,ns,na,n_simStepsPerReset)) # you could reduce here because S can do a big step\n",
    "print(U.shape, W.shape)\n",
    "W1=np.matmul(U,W)\n",
    "print(W1.shape)"
   ]
  },
  {
   "cell_type": "code",
   "execution_count": 13,
   "metadata": {},
   "outputs": [
    {
     "ename": "MemoryError",
     "evalue": "Unable to allocate 4.07 GiB for an array with shape (8, 250000, 3, 91) and data type float64",
     "output_type": "error",
     "traceback": [
      "\u001b[0;31m---------------------------------------------------------------------------\u001b[0m",
      "\u001b[0;31mMemoryError\u001b[0m                               Traceback (most recent call last)",
      "Input \u001b[0;32mIn [13]\u001b[0m, in \u001b[0;36m<cell line: 1>\u001b[0;34m()\u001b[0m\n\u001b[0;32m----> 1\u001b[0m rho\u001b[38;5;241m=\u001b[39m\u001b[43mnp\u001b[49m\u001b[38;5;241;43m.\u001b[39;49m\u001b[43mones_like\u001b[49m\u001b[43m(\u001b[49m\u001b[43mW1\u001b[49m\u001b[43m)\u001b[49m\n\u001b[1;32m      2\u001b[0m \u001b[38;5;28;01mfor\u001b[39;00m i \u001b[38;5;129;01min\u001b[39;00m \u001b[38;5;28mrange\u001b[39m(na):\n\u001b[1;32m      3\u001b[0m     rho[:,:,i,:]\u001b[38;5;241m=\u001b[39mmodelParam[i,\u001b[38;5;241m-\u001b[39m\u001b[38;5;241m1\u001b[39m]\n",
      "File \u001b[0;32m<__array_function__ internals>:180\u001b[0m, in \u001b[0;36mones_like\u001b[0;34m(*args, **kwargs)\u001b[0m\n",
      "File \u001b[0;32m~/anaconda3/envs/imc/lib/python3.10/site-packages/numpy/core/numeric.py:280\u001b[0m, in \u001b[0;36mones_like\u001b[0;34m(a, dtype, order, subok, shape)\u001b[0m\n\u001b[1;32m    218\u001b[0m \u001b[38;5;129m@array_function_dispatch\u001b[39m(_ones_like_dispatcher)\n\u001b[1;32m    219\u001b[0m \u001b[38;5;28;01mdef\u001b[39;00m \u001b[38;5;21mones_like\u001b[39m(a, dtype\u001b[38;5;241m=\u001b[39m\u001b[38;5;28;01mNone\u001b[39;00m, order\u001b[38;5;241m=\u001b[39m\u001b[38;5;124m'\u001b[39m\u001b[38;5;124mK\u001b[39m\u001b[38;5;124m'\u001b[39m, subok\u001b[38;5;241m=\u001b[39m\u001b[38;5;28;01mTrue\u001b[39;00m, shape\u001b[38;5;241m=\u001b[39m\u001b[38;5;28;01mNone\u001b[39;00m):\n\u001b[1;32m    220\u001b[0m     \u001b[38;5;124;03m\"\"\"\u001b[39;00m\n\u001b[1;32m    221\u001b[0m \u001b[38;5;124;03m    Return an array of ones with the same shape and type as a given array.\u001b[39;00m\n\u001b[1;32m    222\u001b[0m \n\u001b[0;32m   (...)\u001b[0m\n\u001b[1;32m    278\u001b[0m \n\u001b[1;32m    279\u001b[0m \u001b[38;5;124;03m    \"\"\"\u001b[39;00m\n\u001b[0;32m--> 280\u001b[0m     res \u001b[38;5;241m=\u001b[39m \u001b[43mempty_like\u001b[49m\u001b[43m(\u001b[49m\u001b[43ma\u001b[49m\u001b[43m,\u001b[49m\u001b[43m \u001b[49m\u001b[43mdtype\u001b[49m\u001b[38;5;241;43m=\u001b[39;49m\u001b[43mdtype\u001b[49m\u001b[43m,\u001b[49m\u001b[43m \u001b[49m\u001b[43morder\u001b[49m\u001b[38;5;241;43m=\u001b[39;49m\u001b[43morder\u001b[49m\u001b[43m,\u001b[49m\u001b[43m \u001b[49m\u001b[43msubok\u001b[49m\u001b[38;5;241;43m=\u001b[39;49m\u001b[43msubok\u001b[49m\u001b[43m,\u001b[49m\u001b[43m \u001b[49m\u001b[43mshape\u001b[49m\u001b[38;5;241;43m=\u001b[39;49m\u001b[43mshape\u001b[49m\u001b[43m)\u001b[49m\n\u001b[1;32m    281\u001b[0m     multiarray\u001b[38;5;241m.\u001b[39mcopyto(res, \u001b[38;5;241m1\u001b[39m, casting\u001b[38;5;241m=\u001b[39m\u001b[38;5;124m'\u001b[39m\u001b[38;5;124munsafe\u001b[39m\u001b[38;5;124m'\u001b[39m)\n\u001b[1;32m    282\u001b[0m     \u001b[38;5;28;01mreturn\u001b[39;00m res\n",
      "File \u001b[0;32m<__array_function__ internals>:180\u001b[0m, in \u001b[0;36mempty_like\u001b[0;34m(*args, **kwargs)\u001b[0m\n",
      "\u001b[0;31mMemoryError\u001b[0m: Unable to allocate 4.07 GiB for an array with shape (8, 250000, 3, 91) and data type float64"
     ]
    }
   ],
   "source": [
    "rho=np.ones_like(W1)\n",
    "for i in range(na):\n",
    "    rho[:,:,i,:]=modelParam[i,-1]\n",
    "W2 = rho*W1 + np.sqrt(1-np.square(rho)) * np.random.normal(size=(n_reset,ns,na,n_simStepsPerReset))"
   ]
  },
  {
   "cell_type": "code",
   "execution_count": null,
   "metadata": {
    "collapsed": true
   },
   "outputs": [],
   "source": [
    "X=np.zeros((n_reset,ns,na))\n",
    "V=np.zeros((n_reset,ns,na))\n",
    "\n",
    "Xr=np.tile(np.log(modelParam[:,0]),(ns,1))\n",
    "Vr=np.tile(modelParam[:,1],(ns,1))\n",
    "\n",
    "for i in range(n_reset):\n",
    "    for j in range(n_simStepsPerReset):\n",
    "        sqrtV = np.sqrt(Vr)\n",
    "        Xr = Xr + sqrtV * sqrtDt * W1[i,:,:,j] - 0.5 * Vr * dt\n",
    "        Vr = np.abs(modelParam[:,2]*(modelParam[:,3]-Vr)*dt + modelParam[:,4]*sqrtV*sqrtDt*W2[i,:,:,j])         \n",
    "    X[i,:,:] = Xr\n",
    "    V[i,:,:] = Vr\n",
    "S=np.exp(X)"
   ]
  },
  {
   "cell_type": "code",
   "execution_count": null,
   "metadata": {},
   "outputs": [],
   "source": [
    "np.mean(S[-1,:,:],axis=0)-50"
   ]
  },
  {
   "cell_type": "code",
   "execution_count": null,
   "metadata": {},
   "outputs": [],
   "source": [
    "2*np.std(S[-1,:,:],axis=0)/250000**0.5"
   ]
  },
  {
   "cell_type": "code",
   "execution_count": null,
   "metadata": {},
   "outputs": [],
   "source": []
  },
  {
   "cell_type": "code",
   "execution_count": null,
   "metadata": {
    "collapsed": true
   },
   "outputs": [],
   "source": []
  },
  {
   "cell_type": "code",
   "execution_count": null,
   "metadata": {},
   "outputs": [],
   "source": [
    "create w grid\n",
    "space is [0,0.05,...,0.35]^5 but not all points are used"
   ]
  },
  {
   "cell_type": "code",
   "execution_count": null,
   "metadata": {},
   "outputs": [],
   "source": [
    "co=0\n",
    "n=8\n",
    "for i in range(n):\n",
    "    for j in range(n):\n",
    "        for k in range(n):\n",
    "            for l in range(n):\n",
    "                for m in range(n):\n",
    "                    if (i+j+k+l+m)==20:\n",
    "                        co+=1\n",
    "co"
   ]
  },
  {
   "cell_type": "code",
   "execution_count": null,
   "metadata": {
    "collapsed": true
   },
   "outputs": [],
   "source": []
  },
  {
   "cell_type": "code",
   "execution_count": null,
   "metadata": {
    "collapsed": true
   },
   "outputs": [],
   "source": []
  },
  {
   "cell_type": "code",
   "execution_count": null,
   "metadata": {
    "collapsed": true
   },
   "outputs": [],
   "source": []
  },
  {
   "cell_type": "code",
   "execution_count": null,
   "metadata": {
    "collapsed": true
   },
   "outputs": [],
   "source": []
  },
  {
   "cell_type": "code",
   "execution_count": null,
   "metadata": {
    "collapsed": true
   },
   "outputs": [],
   "source": []
  },
  {
   "cell_type": "code",
   "execution_count": null,
   "metadata": {},
   "outputs": [],
   "source": [
    "ns"
   ]
  },
  {
   "cell_type": "code",
   "execution_count": null,
   "metadata": {},
   "outputs": [],
   "source": [
    "vol_ref = np.sqrt(modelParam[:,3])\n",
    "ms = np.array([-0.5, 0, 0.5])\n",
    "nk=len(ms)\n",
    "periodDt = T/n_reset\n",
    "sqrtPeriodDt=periodDt**0.5\n",
    "\n",
    "Ks_base = np.exp(np.matmul(vol_ref.reshape((na,1)),ms.reshape((1,-1)))*sqrtPeriodDt)\n",
    "ks = np.array(range(N))\n",
    "a=np.zeros(na)\n",
    "b=np.zeros(na)\n",
    "vv_po = np.zeros((na,N))\n",
    "for k in range(na):\n",
    "    kappa, theta, alpha, rho = modelParam[k,2:]\n",
    "    c1, c2 = cumulants(kappa, theta, theta, periodDt)\n",
    "    L=12\n",
    "    a[k]=c1 - L*c2**0.5\n",
    "    b[k]=c1 + L*c2**0.5\n",
    "    vv_po[k] = vv_put_orig(a[k],b[k],ks)\n",
    "xxs = np.pi * np.matmul(1/(b-a).reshape(na,1), ks.reshape(1,N))\n",
    "heston_a = []\n",
    "for k in range(na):\n",
    "    kappa, theta, alpha, rho = modelParam[k,2:]\n",
    "    heston_a.append(phi_heston2_pre(xxs[k], kappa,theta,alpha,rho,periodDt))\n",
    "\n",
    "\n",
    "t1=time.perf_counter()\n",
    "Ks = np.zeros((n_reset-1,ns,na,nk))\n",
    "prices = np.zeros((n_reset-1,ns,na,nk))\n",
    "vols = np.zeros((n_reset-1,ns,na,nk))\n",
    "for i in range(n_reset-1):\n",
    "    for j in range(ns):\n",
    "        Ks[i,j,:,:]=S[i,j,:].reshape((na,1))*Ks_base\n",
    "        for k in range(na):\n",
    "            Sk = S[i,j,k]\n",
    "            Vk = V[i,j,k]            \n",
    "            xs=np.log(1.0/Ks_base[k,:])\n",
    "            h = phi_heston2_post(heston_a[k],Vk) * vv_po[k] #vv_put_orig(a[k],b[k],ks)\n",
    "            q=-1 #put\n",
    "            numIt=1\n",
    "            for l in range(len(xs)):\n",
    "                prices[i,j,k,l] = Ks[i,j,k,l] * np.sum(h * np.exp(1j * (xs[l] - a[k]) * xxs[k])).real\n",
    "                vols[i,j,k,l] = py_lets_be_quickly_rational.implied_volatility_from_a_transformed_rational_guess_with_limited_iterations(\n",
    "                    prices[i,j,k,l], Sk, Ks[i,j,k,l], periodDt, q, numIt)\n",
    "t2=time.perf_counter()\n",
    "print(\"time:\", t2-t1)"
   ]
  },
  {
   "cell_type": "code",
   "execution_count": null,
   "metadata": {},
   "outputs": [],
   "source": [
    "vols[-1,-1,0,:]"
   ]
  },
  {
   "cell_type": "code",
   "execution_count": null,
   "metadata": {
    "collapsed": true
   },
   "outputs": [],
   "source": [
    "parametrisation policy\n",
    "w, s0, v0, vols, correls\n"
   ]
  },
  {
   "cell_type": "code",
   "execution_count": null,
   "metadata": {
    "collapsed": true
   },
   "outputs": [],
   "source": [
    "actions:\n",
    "    cts too big a step\n",
    "    increase one, decrease one\n",
    "    5 linear function"
   ]
  },
  {
   "cell_type": "code",
   "execution_count": null,
   "metadata": {
    "collapsed": true
   },
   "outputs": [],
   "source": []
  },
  {
   "cell_type": "code",
   "execution_count": null,
   "metadata": {
    "collapsed": true
   },
   "outputs": [],
   "source": [
    "sigma_atm\n",
    "A=U[n_rest_i, path_i,:,:] >  corr\n",
    "A = A * eye(sigma_atm t**0.5)\n",
    "Si(0)\n",
    "Sbar=sum wi Si\n",
    "kappa=ln(K/Sbar)\n",
    "omegai=wi Si / Sbar\n",
    "Omega = eye(omegai)\n",
    "zstar=\n",
    "Kstar=exp(A*zstar)\n",
    "sigmai\n",
    "levy formula"
   ]
  },
  {
   "cell_type": "code",
   "execution_count": null,
   "metadata": {
    "collapsed": true
   },
   "outputs": [],
   "source": [
    "# observations = \n",
    "# w1,..,wn,\n",
    "# S1,..,Sn,\n",
    "# V1,..Vn,\n",
    "# sigma1(ms[0]),..sigma1(ms[-1]),...sigman(ms[-1]),\n",
    "# rho12,..rho1n,rho23,..rho(n-1)n\n",
    "# mit n = na\n",
    "\n",
    "K=1\n",
    "nsi = 0\n",
    "nri = 0\n",
    "\n",
    "w = obs[:na]\n",
    "S = obs[na:2*na]\n",
    "Sbar = np.dot(w, S)\n",
    "kappa = math.log(K / Sbar)\n",
    "omega = w*S/Sbar\n",
    "Omega = np.diag(omega)\n",
    "\n",
    "sigma_atm = np.zeros(na)\n",
    "m_mid=ms//2\n",
    "for i in range(na):\n",
    "    sigma_atm[i] = obs[3*na+m_mid+i*len(ms)]\n",
    "# nein, nicht A berechnen von correlations. \n",
    "AVar = np.matmul(A, sqrtPeriodDt*np.diag(sigma_atm))    \n",
    "\n",
    "C=np.ones((na, na))\n",
    "c=0\n",
    "for i in range(1, na):\n",
    "    C[i-1,i:]=obs(na*(3+len(ms))+c:na*(3+len(ms))+c+na-i)\n",
    "    C[i:,i-1]=C[i-1,i:].T\n",
    "    c+=na-i\n",
    "omegaComega = np.matmul(omega.T, np.matmul(C, omega))\n",
    "zstar=kappa*np.matmul(A.T, omega) / omegaComega * ( 1 + kappa/2 *\n",
    "    (np.eye(na) + 2 * np.matmul(A.T, np.matmul(Omega, A)) / omegaComega -\n",
    "    3*np.matmul(omega.T,npmatmul(C, np.matmul(Omega, np.matmul(C, omega)))) / omegaComega**2 * np.eye(na) ))\n",
    "Kstar=S*np.exp(np.matmul(A, zstar))\n",
    "sigma=np.zeros(na)\n",
    "for i in range(na):\n",
    "    sigma[i] = interpolate.interp1d(Ks[nri,nsi,i,:], obs[3*na+i*len(ms):3*na+(i+1)*len(ms)])(Kstar[i])\n"
   ]
  },
  {
   "cell_type": "code",
   "execution_count": null,
   "metadata": {
    "collapsed": true
   },
   "outputs": [],
   "source": []
  },
  {
   "cell_type": "code",
   "execution_count": null,
   "metadata": {
    "collapsed": true
   },
   "outputs": [],
   "source": []
  },
  {
   "cell_type": "code",
   "execution_count": null,
   "metadata": {
    "collapsed": true
   },
   "outputs": [],
   "source": []
  },
  {
   "cell_type": "code",
   "execution_count": null,
   "metadata": {
    "collapsed": true
   },
   "outputs": [],
   "source": []
  },
  {
   "cell_type": "code",
   "execution_count": null,
   "metadata": {
    "collapsed": true
   },
   "outputs": [],
   "source": []
  }
 ],
 "metadata": {
  "kernelspec": {
   "display_name": "imc",
   "language": "python",
   "name": "imc"
  },
  "language_info": {
   "codemirror_mode": {
    "name": "ipython",
    "version": 3
   },
   "file_extension": ".py",
   "mimetype": "text/x-python",
   "name": "python",
   "nbconvert_exporter": "python",
   "pygments_lexer": "ipython3",
   "version": "3.10.6"
  }
 },
 "nbformat": 4,
 "nbformat_minor": 2
}
