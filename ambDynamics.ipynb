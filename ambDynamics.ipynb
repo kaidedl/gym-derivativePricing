{
 "cells": [
  {
   "cell_type": "code",
   "execution_count": 1,
   "metadata": {
    "collapsed": true
   },
   "outputs": [],
   "source": [
    "import numpy as np\n",
    "from numpy.linalg import eig\n",
    "import pandas as pd\n",
    "import py_lets_be_quickly_rational\n",
    "import time"
   ]
  },
  {
   "cell_type": "markdown",
   "metadata": {},
   "source": [
    "0) intro\n",
    "1) review > only optimal stopping\n",
    "2) model > stoch correl; no resim because chance player always the same\n",
    "2) geodesic+grad descent\n",
    "3) dqn\n",
    "4) mcts"
   ]
  },
  {
   "cell_type": "code",
   "execution_count": 2,
   "metadata": {},
   "outputs": [
    {
     "name": "stdout",
     "output_type": "stream",
     "text": [
      "0.25\n",
      "0.5749999999999998\n",
      "0.27\n"
     ]
    }
   ],
   "source": [
    "# s0, v0, kappa, theta, alpha=vov, rho\n",
    "modelParam = np.array([\n",
    "    [1.0, 0.2**2, 4.0, 0.25**2, 0.5, -0.5],\n",
    "    [1.0, 0.25**2, 3.0, 0.35**2, 0.4, -0.6],\n",
    "    [1.0, 0.3**2, 2.0, 0.3**2, 0.3, -0.7],\n",
    "])\n",
    "\n",
    "n = len(modelParam)\n",
    "\n",
    "# constraint 2 theta vbar > alpha**2\n",
    "for i in range(n):\n",
    "    _, _, theta, vbar, alpha, _ = modelParam[i]\n",
    "    print(2*theta*vbar-alpha**2)"
   ]
  },
  {
   "cell_type": "code",
   "execution_count": 3,
   "metadata": {},
   "outputs": [
    {
     "name": "stdout",
     "output_type": "stream",
     "text": [
      "[[ 0.00000000e+00  0.00000000e+00  0.00000000e+00]\n",
      " [ 0.00000000e+00  1.11022302e-16  0.00000000e+00]\n",
      " [ 0.00000000e+00  0.00000000e+00 -2.22044605e-16]]\n",
      "[[1.         0.68322101 0.28692363]\n",
      " [0.68322101 1.         0.47011926]\n",
      " [0.28692363 0.47011926 1.        ]]\n"
     ]
    }
   ],
   "source": [
    "C = np.array([\n",
    "    [1.0, 0.7, 0.3],\n",
    "    [0.7, 1.0, 0.5],\n",
    "    [0.3, 0.5, 1.0]\n",
    "])\n",
    "\n",
    "L = np.linalg.cholesky(C)\n",
    "print(C-np.matmul(L, L.T))\n",
    "    \n",
    "for i in range(3):\n",
    "    b=np.random.multivariate_normal(np.zeros(3),0.02**2*np.eye(3))\n",
    "    a = L[i,:] + b\n",
    "    L[i,:] = a / np.linalg.norm(a)\n",
    "print(np.matmul(L, L.T))"
   ]
  },
  {
   "cell_type": "code",
   "execution_count": null,
   "metadata": {
    "collapsed": true
   },
   "outputs": [],
   "source": []
  },
  {
   "cell_type": "code",
   "execution_count": 4,
   "metadata": {
    "collapsed": true
   },
   "outputs": [],
   "source": [
    "def xi(a,b,c,d,k):\n",
    "    r1 = np.cos(k*np.pi*(d-a)/(b-a))*np.exp(d) - np.cos(k*np.pi*(c-a)/(b-a))*np.exp(c)\n",
    "    r2 = k*np.pi/(b-a)*np.sin(k*np.pi*(d-a)/(b-a))*np.exp(d) - k*np.pi/(b-a)*np.sin(k*np.pi*(c-a)/(b-a))*np.exp(c)\n",
    "    return (r1+r2) / (1+(k*np.pi/(b-a))**2)\n",
    "\n",
    "def vpsi(a,b,c,d,ks):\n",
    "    ks = np.maximum(ks,1)\n",
    "    r = (np.sin(ks*np.pi*(d-a)/(b-a)) - np.sin(ks*np.pi*(c-a)/(b-a)))*(b-a)/(ks*np.pi)\n",
    "    r[0] = d-c\n",
    "    return r\n",
    "\n",
    "def vv_put_orig(a, b, ks):\n",
    "    r = 2 / (b-a) * (-xi(a,b,a,0,ks)+vpsi(a,b,a,0,ks))\n",
    "    r[0] = r[0] / 2.0\n",
    "    return r\n",
    "\n",
    "def phi_heston2(omega, kappa,theta, alpha, rho,V0,T):\n",
    "    z=omega\n",
    "    tau=T\n",
    "    v=V0\n",
    "    vbar=theta\n",
    "    lamb=kappa\n",
    "    eta=alpha\n",
    "    a0=lamb-rho*eta*z*1j\n",
    "    gamma=np.power(eta**2*(z**2+z*1j)+a0*a0, 0.5)\n",
    "    G=(a0-gamma)/(a0+gamma)\n",
    "    a1=v/eta/eta*((1-np.exp(-gamma*tau))/(1-G*np.exp(-gamma*tau)))*(a0-gamma)\n",
    "    a2=lamb*vbar/eta/eta*(tau*(a0-gamma)-2*np.log((1-G*np.exp(-gamma*tau))/(1-G))) #c*vbar\n",
    "    return np.exp(a1+a2)\n",
    "\n",
    "def cumulants(kappa, theta, V0, t):\n",
    "    c1 = (1-np.exp(-kappa*t))*(theta-V0)/(2*kappa)-theta*t/2\n",
    "    c21 = V0 / (4*kappa**3) * (4*kappa**2*(1+(rho*alpha*t-1)*np.exp(-kappa*t))\n",
    "                             +kappa*(4*rho*alpha*(np.exp(-kappa*t)-1)-2*alpha**2*t*np.exp(-kappa*t))\n",
    "                             +alpha**2*(1-np.exp(-2*kappa*t)))\n",
    "    c22 = theta / (8*kappa**3) * (8*kappa**3*t - 8*kappa**2*(1+rho*alpha*t+(rho*alpha*t-1)*np.exp(-kappa*t))+\\\n",
    "                                  2*kappa*((1+2*np.exp(-kappa*t))*alpha**2*t+ 8*(1-np.exp(-kappa*t))*rho*alpha)+\\\n",
    "                                  alpha**2*(np.exp(-2*kappa*t)+4*np.exp(-kappa*t)-5))\n",
    "    return c1, c21+c22"
   ]
  },
  {
   "cell_type": "code",
   "execution_count": 5,
   "metadata": {
    "collapsed": true
   },
   "outputs": [],
   "source": [
    "T=1\n",
    "S0, V0, kappa, theta, alpha, rho = modelParam[1,:]\n",
    "c1, c2 = cumulants(kappa, theta, V0, T)\n",
    "L=12\n",
    "a=c1 - L*c2**0.5\n",
    "b=c1 + L*c2**0.5\n",
    "F=1\n",
    "N=50"
   ]
  },
  {
   "cell_type": "code",
   "execution_count": 6,
   "metadata": {},
   "outputs": [
    {
     "name": "stdout",
     "output_type": "stream",
     "text": [
      "time: 0.14562004199979128\n",
      "0.95 0.09968511605031086\n",
      "0.96 0.1044186612554525\n",
      "0.97 0.10928112956123624\n",
      "0.98 0.11427204852082093\n",
      "0.99 0.11939082087068936\n",
      "1.0 0.12463672787430953\n",
      "1.01 0.13000893294040944\n",
      "1.02 0.13550648549460667\n",
      "1.03 0.14112832508270606\n",
      "1.04 0.14687328568367972\n",
      "1.05 0.15274010021014287\n",
      "calls\n",
      "0.95 0.14968511605031098\n",
      "0.96 0.14441866125545255\n",
      "0.97 0.13928112956123617\n",
      "0.98 0.13427204852082086\n",
      "0.99 0.12939082087068932\n",
      "1.0 0.12463672787430946\n",
      "1.01 0.12000893294040949\n",
      "1.02 0.11550648549460663\n",
      "1.03 0.11112832508270598\n",
      "1.04 0.1068732856836796\n",
      "1.05 0.1027401002101429\n"
     ]
    }
   ],
   "source": [
    "Ks=np.linspace(0.95,1.05,11)\n",
    "t1=time.perf_counter()\n",
    "xs=np.log(F/Ks)\n",
    "ks = np.array(range(N))\n",
    "xxs = ks*np.pi/(b-a)\n",
    "\n",
    "h = phi_heston2(xxs, kappa,theta,alpha,rho,V0,T) * vv_put_orig(a,b,ks)\n",
    "res = np.zeros(len(Ks))\n",
    "iv = np.zeros(len(Ks))\n",
    "q=-1 #put\n",
    "numIt=1\n",
    "for i in range(len(xs)):\n",
    "    res[i] = Ks[i] * np.sum(h * np.exp(1j * (xs[i] - a) * xxs)).real\n",
    "    iv[i] = py_lets_be_quickly_rational.implied_volatility_from_a_transformed_rational_guess_with_limited_iterations(res[i], S0, Ks[i], T, q, numIt)\n",
    "t2=time.perf_counter()\n",
    "print(\"time:\", t2-t1)\n",
    "\n",
    "for i in range(len(Ks)):\n",
    "    print(Ks[i], res[i])\n",
    "print(\"calls\")\n",
    "for i in range(len(Ks)):\n",
    "    print(Ks[i], res[i] + 1 - Ks[i])"
   ]
  },
  {
   "cell_type": "code",
   "execution_count": null,
   "metadata": {
    "collapsed": true
   },
   "outputs": [],
   "source": []
  },
  {
   "cell_type": "code",
   "execution_count": 16,
   "metadata": {
    "collapsed": true
   },
   "outputs": [],
   "source": [
    "T=2\n",
    "n_reset=8\n",
    "n_resetPerYear=n_reset//T\n",
    "n_simDaysPerReset=365//(n_resetPerYear)\n",
    "n_simDaysPerYear=n_simDaysPerReset*n_resetPerYear\n",
    "nt=n_simDaysPerReset*n_reset\n",
    "T_reset=[n_simDaysPerReset*q for q in range(1,n_reset)]\n",
    "\n",
    "dt=1.0/n_simDaysPerYear\n",
    "sqrtDt=dt**0.5\n",
    "na=C.shape[0]\n",
    "ns=100000\n",
    "volCorrel=0.02"
   ]
  },
  {
   "cell_type": "code",
   "execution_count": 17,
   "metadata": {
    "collapsed": true
   },
   "outputs": [],
   "source": [
    "#simulate correl\n",
    "U0 = np.linalg.cholesky(C).T\n",
    "U0 = np.repeat(U0[np.newaxis, :, :], ns, axis=0)\n",
    "U = np.repeat(U0[np.newaxis, :, :, :], n_reset, axis=0)\n",
    "for i in range(n_reset):\n",
    "    A=U0 if i==0 else U[i-1,:,:,:]\n",
    "    A=A + np.random.multivariate_normal(np.zeros(na),volCorrel**2*np.eye(na),size=(ns,na))\n",
    "    U[i,:,:,:]=A/np.linalg.norm(A,axis=2)[:,:,np.newaxis]\n",
    "#np.matmul(U[-1,0,:,:], U[-1,0,:,:].T)"
   ]
  },
  {
   "cell_type": "code",
   "execution_count": 18,
   "metadata": {},
   "outputs": [
    {
     "name": "stdout",
     "output_type": "stream",
     "text": [
      "(8, 100000, 3, 3) (8, 100000, 3, 91)\n",
      "(8, 100000, 3, 91)\n"
     ]
    }
   ],
   "source": [
    "W=np.random.normal(size=(n_reset,ns,na,n_simDaysPerReset))\n",
    "print(U.shape, W.shape)\n",
    "W1=np.matmul(U,W)\n",
    "print(W1.shape)"
   ]
  },
  {
   "cell_type": "code",
   "execution_count": 19,
   "metadata": {},
   "outputs": [],
   "source": [
    "rho=np.ones_like(W1)\n",
    "for i in range(na):\n",
    "    rho[:,:,i,:]=modelParam[i,-1]\n",
    "W2 = rho*W1 + np.sqrt(1-np.square(rho)) * np.random.normal(size=(n_reset,ns,na,n_simDaysPerReset))"
   ]
  },
  {
   "cell_type": "code",
   "execution_count": 20,
   "metadata": {},
   "outputs": [],
   "source": [
    "X=np.zeros((n_reset,ns,na))\n",
    "V=np.zeros((n_reset,ns,na))\n",
    "\n",
    "Xr=np.tile(np.log(modelParam[:,0]),(ns,1))\n",
    "Vr=np.tile(modelParam[:,1],(ns,1))\n",
    "\n",
    "for i in range(n_reset):\n",
    "    for j in range(n_simDaysPerReset):\n",
    "        sqrtV = np.sqrt(Vr)\n",
    "        Xr = Xr + sqrtV * sqrtDt * W1[i,:,:,j] - 0.5 * Vr * dt\n",
    "        Vr = np.abs(modelParam[:,2]*(modelParam[:,3]-Vr)*dt + modelParam[:,4]*sqrtV*sqrtDt*W2[i,:,:,j])         \n",
    "    X[i,:,:] = Xr\n",
    "    V[i,:,:] = Vr\n",
    "S=np.exp(X)"
   ]
  },
  {
   "cell_type": "code",
   "execution_count": 15,
   "metadata": {},
   "outputs": [
    {
     "data": {
      "text/plain": [
       "array([0.99862017, 1.0049377 , 1.01891727])"
      ]
     },
     "execution_count": 15,
     "metadata": {},
     "output_type": "execute_result"
    }
   ],
   "source": [
    "np.mean(S[-1,:,:],axis=0)"
   ]
  },
  {
   "cell_type": "code",
   "execution_count": null,
   "metadata": {
    "collapsed": true
   },
   "outputs": [],
   "source": []
  }
 ],
 "metadata": {
  "kernelspec": {
   "display_name": "imc",
   "language": "python",
   "name": "imc"
  },
  "language_info": {
   "codemirror_mode": {
    "name": "ipython",
    "version": 3
   },
   "file_extension": ".py",
   "mimetype": "text/x-python",
   "name": "python",
   "nbconvert_exporter": "python",
   "pygments_lexer": "ipython3",
   "version": "3.10.6"
  }
 },
 "nbformat": 4,
 "nbformat_minor": 2
}
